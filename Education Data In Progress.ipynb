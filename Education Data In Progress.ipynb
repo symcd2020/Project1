{
 "cells": [
  {
   "cell_type": "code",
   "execution_count": 337,
   "metadata": {},
   "outputs": [],
   "source": [
    "# Dependencies and Setup\n",
    "import matplotlib.pyplot as plt\n",
    "import pandas as pd\n",
    "import numpy as np\n",
    "import requests\n",
    "import time\n",
    "from scipy.stats import linregress\n",
    "\n",
    "# Import the Census Data\n",
    "from census import Census\n",
    "\n",
    "# Import citipy to determine the cities based on latitude and longitude\n",
    "from citipy import citipy"
   ]
  },
  {
   "cell_type": "code",
   "execution_count": 192,
   "metadata": {},
   "outputs": [
    {
     "data": {
      "text/html": [
       "<div>\n",
       "<style scoped>\n",
       "    .dataframe tbody tr th:only-of-type {\n",
       "        vertical-align: middle;\n",
       "    }\n",
       "\n",
       "    .dataframe tbody tr th {\n",
       "        vertical-align: top;\n",
       "    }\n",
       "\n",
       "    .dataframe thead th {\n",
       "        text-align: right;\n",
       "    }\n",
       "</style>\n",
       "<table border=\"1\" class=\"dataframe\">\n",
       "  <thead>\n",
       "    <tr style=\"text-align: right;\">\n",
       "      <th></th>\n",
       "      <th>Name</th>\n",
       "      <th>Household Income</th>\n",
       "      <th>Population</th>\n",
       "      <th>Median Age</th>\n",
       "      <th>Per Capita Income</th>\n",
       "      <th>Poverty</th>\n",
       "      <th>No Education</th>\n",
       "      <th>High School Education</th>\n",
       "      <th>GED</th>\n",
       "      <th>Associates</th>\n",
       "      <th>...</th>\n",
       "      <th>poverty_family_married</th>\n",
       "      <th>Single Male</th>\n",
       "      <th>Single Female</th>\n",
       "      <th>poverty_female</th>\n",
       "      <th>poverty_male</th>\n",
       "      <th>poverty_family</th>\n",
       "      <th>state</th>\n",
       "      <th>Zipcode</th>\n",
       "      <th>Year</th>\n",
       "      <th>Poverty Rate</th>\n",
       "    </tr>\n",
       "  </thead>\n",
       "  <tbody>\n",
       "    <tr>\n",
       "      <th>0</th>\n",
       "      <td>ZCTA5 00601</td>\n",
       "      <td>13092.0</td>\n",
       "      <td>17242.0</td>\n",
       "      <td>40.5</td>\n",
       "      <td>6999.0</td>\n",
       "      <td>10772.0</td>\n",
       "      <td>492.0</td>\n",
       "      <td>2868.0</td>\n",
       "      <td>160.0</td>\n",
       "      <td>888.0</td>\n",
       "      <td>...</td>\n",
       "      <td>1223.0</td>\n",
       "      <td>215.0</td>\n",
       "      <td>988.0</td>\n",
       "      <td>5905.0</td>\n",
       "      <td>4867.0</td>\n",
       "      <td>2426.0</td>\n",
       "      <td>72.0</td>\n",
       "      <td>601</td>\n",
       "      <td>2018</td>\n",
       "      <td>62.475351</td>\n",
       "    </tr>\n",
       "    <tr>\n",
       "      <th>1</th>\n",
       "      <td>ZCTA5 00602</td>\n",
       "      <td>16358.0</td>\n",
       "      <td>38442.0</td>\n",
       "      <td>42.3</td>\n",
       "      <td>9277.0</td>\n",
       "      <td>19611.0</td>\n",
       "      <td>901.0</td>\n",
       "      <td>5751.0</td>\n",
       "      <td>947.0</td>\n",
       "      <td>3387.0</td>\n",
       "      <td>...</td>\n",
       "      <td>2360.0</td>\n",
       "      <td>502.0</td>\n",
       "      <td>1665.0</td>\n",
       "      <td>10077.0</td>\n",
       "      <td>9534.0</td>\n",
       "      <td>4527.0</td>\n",
       "      <td>72.0</td>\n",
       "      <td>602</td>\n",
       "      <td>2018</td>\n",
       "      <td>51.014515</td>\n",
       "    </tr>\n",
       "    <tr>\n",
       "      <th>2</th>\n",
       "      <td>ZCTA5 00603</td>\n",
       "      <td>16603.0</td>\n",
       "      <td>48814.0</td>\n",
       "      <td>41.1</td>\n",
       "      <td>11307.0</td>\n",
       "      <td>24337.0</td>\n",
       "      <td>924.0</td>\n",
       "      <td>8745.0</td>\n",
       "      <td>996.0</td>\n",
       "      <td>2370.0</td>\n",
       "      <td>...</td>\n",
       "      <td>2393.0</td>\n",
       "      <td>697.0</td>\n",
       "      <td>3349.0</td>\n",
       "      <td>13467.0</td>\n",
       "      <td>10870.0</td>\n",
       "      <td>6439.0</td>\n",
       "      <td>72.0</td>\n",
       "      <td>603</td>\n",
       "      <td>2018</td>\n",
       "      <td>49.856599</td>\n",
       "    </tr>\n",
       "    <tr>\n",
       "      <th>3</th>\n",
       "      <td>ZCTA5 00606</td>\n",
       "      <td>12832.0</td>\n",
       "      <td>6437.0</td>\n",
       "      <td>43.3</td>\n",
       "      <td>5943.0</td>\n",
       "      <td>4163.0</td>\n",
       "      <td>185.0</td>\n",
       "      <td>1284.0</td>\n",
       "      <td>138.0</td>\n",
       "      <td>241.0</td>\n",
       "      <td>...</td>\n",
       "      <td>421.0</td>\n",
       "      <td>109.0</td>\n",
       "      <td>251.0</td>\n",
       "      <td>2110.0</td>\n",
       "      <td>2053.0</td>\n",
       "      <td>781.0</td>\n",
       "      <td>72.0</td>\n",
       "      <td>606</td>\n",
       "      <td>2018</td>\n",
       "      <td>64.672984</td>\n",
       "    </tr>\n",
       "    <tr>\n",
       "      <th>4</th>\n",
       "      <td>ZCTA5 00610</td>\n",
       "      <td>19309.0</td>\n",
       "      <td>27073.0</td>\n",
       "      <td>42.1</td>\n",
       "      <td>10220.0</td>\n",
       "      <td>11724.0</td>\n",
       "      <td>643.0</td>\n",
       "      <td>4945.0</td>\n",
       "      <td>624.0</td>\n",
       "      <td>2241.0</td>\n",
       "      <td>...</td>\n",
       "      <td>1307.0</td>\n",
       "      <td>278.0</td>\n",
       "      <td>1029.0</td>\n",
       "      <td>6074.0</td>\n",
       "      <td>5650.0</td>\n",
       "      <td>2614.0</td>\n",
       "      <td>72.0</td>\n",
       "      <td>610</td>\n",
       "      <td>2018</td>\n",
       "      <td>43.305138</td>\n",
       "    </tr>\n",
       "    <tr>\n",
       "      <th>...</th>\n",
       "      <td>...</td>\n",
       "      <td>...</td>\n",
       "      <td>...</td>\n",
       "      <td>...</td>\n",
       "      <td>...</td>\n",
       "      <td>...</td>\n",
       "      <td>...</td>\n",
       "      <td>...</td>\n",
       "      <td>...</td>\n",
       "      <td>...</td>\n",
       "      <td>...</td>\n",
       "      <td>...</td>\n",
       "      <td>...</td>\n",
       "      <td>...</td>\n",
       "      <td>...</td>\n",
       "      <td>...</td>\n",
       "      <td>...</td>\n",
       "      <td>...</td>\n",
       "      <td>...</td>\n",
       "      <td>...</td>\n",
       "      <td>...</td>\n",
       "    </tr>\n",
       "    <tr>\n",
       "      <th>166903</th>\n",
       "      <td>ZCTA5 99923</td>\n",
       "      <td>-666666666.0</td>\n",
       "      <td>25.0</td>\n",
       "      <td>-666666666.0</td>\n",
       "      <td>NaN</td>\n",
       "      <td>0.0</td>\n",
       "      <td>0.0</td>\n",
       "      <td>0.0</td>\n",
       "      <td>0.0</td>\n",
       "      <td>0.0</td>\n",
       "      <td>...</td>\n",
       "      <td>0.0</td>\n",
       "      <td>0.0</td>\n",
       "      <td>0.0</td>\n",
       "      <td>0.0</td>\n",
       "      <td>0.0</td>\n",
       "      <td>0.0</td>\n",
       "      <td>NaN</td>\n",
       "      <td>99923</td>\n",
       "      <td>2022</td>\n",
       "      <td>0.000000</td>\n",
       "    </tr>\n",
       "    <tr>\n",
       "      <th>166904</th>\n",
       "      <td>ZCTA5 99925</td>\n",
       "      <td>80313.0</td>\n",
       "      <td>920.0</td>\n",
       "      <td>43.0</td>\n",
       "      <td>36414.0</td>\n",
       "      <td>143.0</td>\n",
       "      <td>0.0</td>\n",
       "      <td>191.0</td>\n",
       "      <td>63.0</td>\n",
       "      <td>53.0</td>\n",
       "      <td>...</td>\n",
       "      <td>4.0</td>\n",
       "      <td>1.0</td>\n",
       "      <td>15.0</td>\n",
       "      <td>56.0</td>\n",
       "      <td>87.0</td>\n",
       "      <td>20.0</td>\n",
       "      <td>NaN</td>\n",
       "      <td>99925</td>\n",
       "      <td>2022</td>\n",
       "      <td>15.543478</td>\n",
       "    </tr>\n",
       "    <tr>\n",
       "      <th>166905</th>\n",
       "      <td>ZCTA5 99926</td>\n",
       "      <td>78365.0</td>\n",
       "      <td>1465.0</td>\n",
       "      <td>37.9</td>\n",
       "      <td>29100.0</td>\n",
       "      <td>222.0</td>\n",
       "      <td>0.0</td>\n",
       "      <td>299.0</td>\n",
       "      <td>67.0</td>\n",
       "      <td>125.0</td>\n",
       "      <td>...</td>\n",
       "      <td>26.0</td>\n",
       "      <td>6.0</td>\n",
       "      <td>8.0</td>\n",
       "      <td>82.0</td>\n",
       "      <td>140.0</td>\n",
       "      <td>40.0</td>\n",
       "      <td>NaN</td>\n",
       "      <td>99926</td>\n",
       "      <td>2022</td>\n",
       "      <td>15.153584</td>\n",
       "    </tr>\n",
       "    <tr>\n",
       "      <th>166906</th>\n",
       "      <td>ZCTA5 99927</td>\n",
       "      <td>-666666666.0</td>\n",
       "      <td>14.0</td>\n",
       "      <td>-666666666.0</td>\n",
       "      <td>NaN</td>\n",
       "      <td>0.0</td>\n",
       "      <td>0.0</td>\n",
       "      <td>14.0</td>\n",
       "      <td>0.0</td>\n",
       "      <td>0.0</td>\n",
       "      <td>...</td>\n",
       "      <td>0.0</td>\n",
       "      <td>0.0</td>\n",
       "      <td>0.0</td>\n",
       "      <td>0.0</td>\n",
       "      <td>0.0</td>\n",
       "      <td>0.0</td>\n",
       "      <td>NaN</td>\n",
       "      <td>99927</td>\n",
       "      <td>2022</td>\n",
       "      <td>0.000000</td>\n",
       "    </tr>\n",
       "    <tr>\n",
       "      <th>166907</th>\n",
       "      <td>ZCTA5 99929</td>\n",
       "      <td>61125.0</td>\n",
       "      <td>2133.0</td>\n",
       "      <td>48.9</td>\n",
       "      <td>35434.0</td>\n",
       "      <td>212.0</td>\n",
       "      <td>1.0</td>\n",
       "      <td>452.0</td>\n",
       "      <td>68.0</td>\n",
       "      <td>150.0</td>\n",
       "      <td>...</td>\n",
       "      <td>0.0</td>\n",
       "      <td>9.0</td>\n",
       "      <td>18.0</td>\n",
       "      <td>116.0</td>\n",
       "      <td>96.0</td>\n",
       "      <td>27.0</td>\n",
       "      <td>NaN</td>\n",
       "      <td>99929</td>\n",
       "      <td>2022</td>\n",
       "      <td>9.939053</td>\n",
       "    </tr>\n",
       "  </tbody>\n",
       "</table>\n",
       "<p>166908 rows × 24 columns</p>\n",
       "</div>"
      ],
      "text/plain": [
       "               Name  Household Income  Population   Median Age  \\\n",
       "0       ZCTA5 00601           13092.0     17242.0         40.5   \n",
       "1       ZCTA5 00602           16358.0     38442.0         42.3   \n",
       "2       ZCTA5 00603           16603.0     48814.0         41.1   \n",
       "3       ZCTA5 00606           12832.0      6437.0         43.3   \n",
       "4       ZCTA5 00610           19309.0     27073.0         42.1   \n",
       "...             ...               ...         ...          ...   \n",
       "166903  ZCTA5 99923      -666666666.0        25.0 -666666666.0   \n",
       "166904  ZCTA5 99925           80313.0       920.0         43.0   \n",
       "166905  ZCTA5 99926           78365.0      1465.0         37.9   \n",
       "166906  ZCTA5 99927      -666666666.0        14.0 -666666666.0   \n",
       "166907  ZCTA5 99929           61125.0      2133.0         48.9   \n",
       "\n",
       "        Per Capita Income  Poverty  No Education  High School Education  \\\n",
       "0                  6999.0  10772.0         492.0                 2868.0   \n",
       "1                  9277.0  19611.0         901.0                 5751.0   \n",
       "2                 11307.0  24337.0         924.0                 8745.0   \n",
       "3                  5943.0   4163.0         185.0                 1284.0   \n",
       "4                 10220.0  11724.0         643.0                 4945.0   \n",
       "...                   ...      ...           ...                    ...   \n",
       "166903                NaN      0.0           0.0                    0.0   \n",
       "166904            36414.0    143.0           0.0                  191.0   \n",
       "166905            29100.0    222.0           0.0                  299.0   \n",
       "166906                NaN      0.0           0.0                   14.0   \n",
       "166907            35434.0    212.0           1.0                  452.0   \n",
       "\n",
       "          GED  Associates  ...  poverty_family_married  Single Male  \\\n",
       "0       160.0       888.0  ...                  1223.0        215.0   \n",
       "1       947.0      3387.0  ...                  2360.0        502.0   \n",
       "2       996.0      2370.0  ...                  2393.0        697.0   \n",
       "3       138.0       241.0  ...                   421.0        109.0   \n",
       "4       624.0      2241.0  ...                  1307.0        278.0   \n",
       "...       ...         ...  ...                     ...          ...   \n",
       "166903    0.0         0.0  ...                     0.0          0.0   \n",
       "166904   63.0        53.0  ...                     4.0          1.0   \n",
       "166905   67.0       125.0  ...                    26.0          6.0   \n",
       "166906    0.0         0.0  ...                     0.0          0.0   \n",
       "166907   68.0       150.0  ...                     0.0          9.0   \n",
       "\n",
       "        Single Female  poverty_female  poverty_male  poverty_family  state  \\\n",
       "0               988.0          5905.0        4867.0          2426.0   72.0   \n",
       "1              1665.0         10077.0        9534.0          4527.0   72.0   \n",
       "2              3349.0         13467.0       10870.0          6439.0   72.0   \n",
       "3               251.0          2110.0        2053.0           781.0   72.0   \n",
       "4              1029.0          6074.0        5650.0          2614.0   72.0   \n",
       "...               ...             ...           ...             ...    ...   \n",
       "166903            0.0             0.0           0.0             0.0    NaN   \n",
       "166904           15.0            56.0          87.0            20.0    NaN   \n",
       "166905            8.0            82.0         140.0            40.0    NaN   \n",
       "166906            0.0             0.0           0.0             0.0    NaN   \n",
       "166907           18.0           116.0          96.0            27.0    NaN   \n",
       "\n",
       "        Zipcode  Year  Poverty Rate  \n",
       "0           601  2018     62.475351  \n",
       "1           602  2018     51.014515  \n",
       "2           603  2018     49.856599  \n",
       "3           606  2018     64.672984  \n",
       "4           610  2018     43.305138  \n",
       "...         ...   ...           ...  \n",
       "166903    99923  2022      0.000000  \n",
       "166904    99925  2022     15.543478  \n",
       "166905    99926  2022     15.153584  \n",
       "166906    99927  2022      0.000000  \n",
       "166907    99929  2022      9.939053  \n",
       "\n",
       "[166908 rows x 24 columns]"
      ]
     },
     "execution_count": 192,
     "metadata": {},
     "output_type": "execute_result"
    }
   ],
   "source": [
    "education_data = (r\"C:\\Users\\sym0002\\EdX_Bootcamp\\Project1\\combined_df.csv\")\n",
    "\n",
    "# Read in the data\n",
    "education_data_df = pd.read_csv(education_data)\n",
    "education_data_df"
   ]
  },
  {
   "cell_type": "code",
   "execution_count": 193,
   "metadata": {},
   "outputs": [
    {
     "data": {
      "text/html": [
       "<div>\n",
       "<style scoped>\n",
       "    .dataframe tbody tr th:only-of-type {\n",
       "        vertical-align: middle;\n",
       "    }\n",
       "\n",
       "    .dataframe tbody tr th {\n",
       "        vertical-align: top;\n",
       "    }\n",
       "\n",
       "    .dataframe thead th {\n",
       "        text-align: right;\n",
       "    }\n",
       "</style>\n",
       "<table border=\"1\" class=\"dataframe\">\n",
       "  <thead>\n",
       "    <tr style=\"text-align: right;\">\n",
       "      <th></th>\n",
       "      <th>Year</th>\n",
       "      <th>Median Age</th>\n",
       "      <th>Household Income</th>\n",
       "      <th>No Education</th>\n",
       "      <th>High School Education</th>\n",
       "      <th>GED</th>\n",
       "      <th>Associates</th>\n",
       "      <th>Bachelors</th>\n",
       "      <th>Masters</th>\n",
       "      <th>Professional</th>\n",
       "      <th>Doctorate</th>\n",
       "    </tr>\n",
       "  </thead>\n",
       "  <tbody>\n",
       "    <tr>\n",
       "      <th>0</th>\n",
       "      <td>2018</td>\n",
       "      <td>40.5</td>\n",
       "      <td>13092.0</td>\n",
       "      <td>492.0</td>\n",
       "      <td>2868.0</td>\n",
       "      <td>160.0</td>\n",
       "      <td>888.0</td>\n",
       "      <td>1781.0</td>\n",
       "      <td>216.0</td>\n",
       "      <td>15.0</td>\n",
       "      <td>79.0</td>\n",
       "    </tr>\n",
       "    <tr>\n",
       "      <th>1</th>\n",
       "      <td>2018</td>\n",
       "      <td>42.3</td>\n",
       "      <td>16358.0</td>\n",
       "      <td>901.0</td>\n",
       "      <td>5751.0</td>\n",
       "      <td>947.0</td>\n",
       "      <td>3387.0</td>\n",
       "      <td>3692.0</td>\n",
       "      <td>1119.0</td>\n",
       "      <td>201.0</td>\n",
       "      <td>312.0</td>\n",
       "    </tr>\n",
       "    <tr>\n",
       "      <th>2</th>\n",
       "      <td>2018</td>\n",
       "      <td>41.1</td>\n",
       "      <td>16603.0</td>\n",
       "      <td>924.0</td>\n",
       "      <td>8745.0</td>\n",
       "      <td>996.0</td>\n",
       "      <td>2370.0</td>\n",
       "      <td>5888.0</td>\n",
       "      <td>1437.0</td>\n",
       "      <td>297.0</td>\n",
       "      <td>280.0</td>\n",
       "    </tr>\n",
       "    <tr>\n",
       "      <th>3</th>\n",
       "      <td>2018</td>\n",
       "      <td>43.3</td>\n",
       "      <td>12832.0</td>\n",
       "      <td>185.0</td>\n",
       "      <td>1284.0</td>\n",
       "      <td>138.0</td>\n",
       "      <td>241.0</td>\n",
       "      <td>311.0</td>\n",
       "      <td>120.0</td>\n",
       "      <td>0.0</td>\n",
       "      <td>0.0</td>\n",
       "    </tr>\n",
       "    <tr>\n",
       "      <th>4</th>\n",
       "      <td>2018</td>\n",
       "      <td>42.1</td>\n",
       "      <td>19309.0</td>\n",
       "      <td>643.0</td>\n",
       "      <td>4945.0</td>\n",
       "      <td>624.0</td>\n",
       "      <td>2241.0</td>\n",
       "      <td>2498.0</td>\n",
       "      <td>749.0</td>\n",
       "      <td>54.0</td>\n",
       "      <td>66.0</td>\n",
       "    </tr>\n",
       "    <tr>\n",
       "      <th>...</th>\n",
       "      <td>...</td>\n",
       "      <td>...</td>\n",
       "      <td>...</td>\n",
       "      <td>...</td>\n",
       "      <td>...</td>\n",
       "      <td>...</td>\n",
       "      <td>...</td>\n",
       "      <td>...</td>\n",
       "      <td>...</td>\n",
       "      <td>...</td>\n",
       "      <td>...</td>\n",
       "    </tr>\n",
       "    <tr>\n",
       "      <th>166903</th>\n",
       "      <td>2022</td>\n",
       "      <td>-666666666.0</td>\n",
       "      <td>-666666666.0</td>\n",
       "      <td>0.0</td>\n",
       "      <td>0.0</td>\n",
       "      <td>0.0</td>\n",
       "      <td>0.0</td>\n",
       "      <td>16.0</td>\n",
       "      <td>0.0</td>\n",
       "      <td>0.0</td>\n",
       "      <td>0.0</td>\n",
       "    </tr>\n",
       "    <tr>\n",
       "      <th>166904</th>\n",
       "      <td>2022</td>\n",
       "      <td>43.0</td>\n",
       "      <td>80313.0</td>\n",
       "      <td>0.0</td>\n",
       "      <td>191.0</td>\n",
       "      <td>63.0</td>\n",
       "      <td>53.0</td>\n",
       "      <td>86.0</td>\n",
       "      <td>28.0</td>\n",
       "      <td>0.0</td>\n",
       "      <td>0.0</td>\n",
       "    </tr>\n",
       "    <tr>\n",
       "      <th>166905</th>\n",
       "      <td>2022</td>\n",
       "      <td>37.9</td>\n",
       "      <td>78365.0</td>\n",
       "      <td>0.0</td>\n",
       "      <td>299.0</td>\n",
       "      <td>67.0</td>\n",
       "      <td>125.0</td>\n",
       "      <td>43.0</td>\n",
       "      <td>40.0</td>\n",
       "      <td>3.0</td>\n",
       "      <td>4.0</td>\n",
       "    </tr>\n",
       "    <tr>\n",
       "      <th>166906</th>\n",
       "      <td>2022</td>\n",
       "      <td>-666666666.0</td>\n",
       "      <td>-666666666.0</td>\n",
       "      <td>0.0</td>\n",
       "      <td>14.0</td>\n",
       "      <td>0.0</td>\n",
       "      <td>0.0</td>\n",
       "      <td>0.0</td>\n",
       "      <td>0.0</td>\n",
       "      <td>0.0</td>\n",
       "      <td>0.0</td>\n",
       "    </tr>\n",
       "    <tr>\n",
       "      <th>166907</th>\n",
       "      <td>2022</td>\n",
       "      <td>48.9</td>\n",
       "      <td>61125.0</td>\n",
       "      <td>1.0</td>\n",
       "      <td>452.0</td>\n",
       "      <td>68.0</td>\n",
       "      <td>150.0</td>\n",
       "      <td>217.0</td>\n",
       "      <td>50.0</td>\n",
       "      <td>8.0</td>\n",
       "      <td>6.0</td>\n",
       "    </tr>\n",
       "  </tbody>\n",
       "</table>\n",
       "<p>166908 rows × 11 columns</p>\n",
       "</div>"
      ],
      "text/plain": [
       "        Year   Median Age  Household Income  No Education  \\\n",
       "0       2018         40.5           13092.0         492.0   \n",
       "1       2018         42.3           16358.0         901.0   \n",
       "2       2018         41.1           16603.0         924.0   \n",
       "3       2018         43.3           12832.0         185.0   \n",
       "4       2018         42.1           19309.0         643.0   \n",
       "...      ...          ...               ...           ...   \n",
       "166903  2022 -666666666.0      -666666666.0           0.0   \n",
       "166904  2022         43.0           80313.0           0.0   \n",
       "166905  2022         37.9           78365.0           0.0   \n",
       "166906  2022 -666666666.0      -666666666.0           0.0   \n",
       "166907  2022         48.9           61125.0           1.0   \n",
       "\n",
       "        High School Education    GED  Associates  Bachelors  Masters  \\\n",
       "0                      2868.0  160.0       888.0     1781.0    216.0   \n",
       "1                      5751.0  947.0      3387.0     3692.0   1119.0   \n",
       "2                      8745.0  996.0      2370.0     5888.0   1437.0   \n",
       "3                      1284.0  138.0       241.0      311.0    120.0   \n",
       "4                      4945.0  624.0      2241.0     2498.0    749.0   \n",
       "...                       ...    ...         ...        ...      ...   \n",
       "166903                    0.0    0.0         0.0       16.0      0.0   \n",
       "166904                  191.0   63.0        53.0       86.0     28.0   \n",
       "166905                  299.0   67.0       125.0       43.0     40.0   \n",
       "166906                   14.0    0.0         0.0        0.0      0.0   \n",
       "166907                  452.0   68.0       150.0      217.0     50.0   \n",
       "\n",
       "        Professional  Doctorate  \n",
       "0               15.0       79.0  \n",
       "1              201.0      312.0  \n",
       "2              297.0      280.0  \n",
       "3                0.0        0.0  \n",
       "4               54.0       66.0  \n",
       "...              ...        ...  \n",
       "166903           0.0        0.0  \n",
       "166904           0.0        0.0  \n",
       "166905           3.0        4.0  \n",
       "166906           0.0        0.0  \n",
       "166907           8.0        6.0  \n",
       "\n",
       "[166908 rows x 11 columns]"
      ]
     },
     "execution_count": 193,
     "metadata": {},
     "output_type": "execute_result"
    }
   ],
   "source": [
    "selected_columns = ['Year', 'Median Age', 'Household Income', 'No Education', 'High School Education', 'GED', 'Associates', 'Bachelors', 'Masters', 'Professional', 'Doctorate']\n",
    "\n",
    "# Creating a new DataFrame with only the slected columns\n",
    "selected_data = education_data_df[selected_columns]\n",
    "\n",
    "# Print the resulting DataFrame\n",
    "selected_data"
   ]
  },
  {
   "cell_type": "code",
   "execution_count": 194,
   "metadata": {},
   "outputs": [
    {
     "data": {
      "text/html": [
       "<div>\n",
       "<style scoped>\n",
       "    .dataframe tbody tr th:only-of-type {\n",
       "        vertical-align: middle;\n",
       "    }\n",
       "\n",
       "    .dataframe tbody tr th {\n",
       "        vertical-align: top;\n",
       "    }\n",
       "\n",
       "    .dataframe thead th {\n",
       "        text-align: right;\n",
       "    }\n",
       "</style>\n",
       "<table border=\"1\" class=\"dataframe\">\n",
       "  <thead>\n",
       "    <tr style=\"text-align: right;\">\n",
       "      <th></th>\n",
       "      <th>Year</th>\n",
       "      <th>Median Age</th>\n",
       "      <th>Household Income</th>\n",
       "      <th>No Education</th>\n",
       "      <th>High School Education</th>\n",
       "      <th>GED</th>\n",
       "      <th>Associates</th>\n",
       "      <th>Bachelors</th>\n",
       "      <th>Masters</th>\n",
       "      <th>Professional</th>\n",
       "      <th>Doctorate</th>\n",
       "    </tr>\n",
       "  </thead>\n",
       "  <tbody>\n",
       "    <tr>\n",
       "      <th>0</th>\n",
       "      <td>2018</td>\n",
       "      <td>40.5</td>\n",
       "      <td>13092.0</td>\n",
       "      <td>492.0</td>\n",
       "      <td>2868.0</td>\n",
       "      <td>160.0</td>\n",
       "      <td>888.0</td>\n",
       "      <td>1781.0</td>\n",
       "      <td>216.0</td>\n",
       "      <td>15.0</td>\n",
       "      <td>79.0</td>\n",
       "    </tr>\n",
       "    <tr>\n",
       "      <th>1</th>\n",
       "      <td>2018</td>\n",
       "      <td>42.3</td>\n",
       "      <td>16358.0</td>\n",
       "      <td>901.0</td>\n",
       "      <td>5751.0</td>\n",
       "      <td>947.0</td>\n",
       "      <td>3387.0</td>\n",
       "      <td>3692.0</td>\n",
       "      <td>1119.0</td>\n",
       "      <td>201.0</td>\n",
       "      <td>312.0</td>\n",
       "    </tr>\n",
       "    <tr>\n",
       "      <th>2</th>\n",
       "      <td>2018</td>\n",
       "      <td>41.1</td>\n",
       "      <td>16603.0</td>\n",
       "      <td>924.0</td>\n",
       "      <td>8745.0</td>\n",
       "      <td>996.0</td>\n",
       "      <td>2370.0</td>\n",
       "      <td>5888.0</td>\n",
       "      <td>1437.0</td>\n",
       "      <td>297.0</td>\n",
       "      <td>280.0</td>\n",
       "    </tr>\n",
       "    <tr>\n",
       "      <th>3</th>\n",
       "      <td>2018</td>\n",
       "      <td>43.3</td>\n",
       "      <td>12832.0</td>\n",
       "      <td>185.0</td>\n",
       "      <td>1284.0</td>\n",
       "      <td>138.0</td>\n",
       "      <td>241.0</td>\n",
       "      <td>311.0</td>\n",
       "      <td>120.0</td>\n",
       "      <td>0.0</td>\n",
       "      <td>0.0</td>\n",
       "    </tr>\n",
       "    <tr>\n",
       "      <th>4</th>\n",
       "      <td>2018</td>\n",
       "      <td>42.1</td>\n",
       "      <td>19309.0</td>\n",
       "      <td>643.0</td>\n",
       "      <td>4945.0</td>\n",
       "      <td>624.0</td>\n",
       "      <td>2241.0</td>\n",
       "      <td>2498.0</td>\n",
       "      <td>749.0</td>\n",
       "      <td>54.0</td>\n",
       "      <td>66.0</td>\n",
       "    </tr>\n",
       "  </tbody>\n",
       "</table>\n",
       "</div>"
      ],
      "text/plain": [
       "   Year  Median Age  Household Income  No Education  High School Education  \\\n",
       "0  2018        40.5           13092.0         492.0                 2868.0   \n",
       "1  2018        42.3           16358.0         901.0                 5751.0   \n",
       "2  2018        41.1           16603.0         924.0                 8745.0   \n",
       "3  2018        43.3           12832.0         185.0                 1284.0   \n",
       "4  2018        42.1           19309.0         643.0                 4945.0   \n",
       "\n",
       "     GED  Associates  Bachelors  Masters  Professional  Doctorate  \n",
       "0  160.0       888.0     1781.0    216.0          15.0       79.0  \n",
       "1  947.0      3387.0     3692.0   1119.0         201.0      312.0  \n",
       "2  996.0      2370.0     5888.0   1437.0         297.0      280.0  \n",
       "3  138.0       241.0      311.0    120.0           0.0        0.0  \n",
       "4  624.0      2241.0     2498.0    749.0          54.0       66.0  "
      ]
     },
     "execution_count": 194,
     "metadata": {},
     "output_type": "execute_result"
    }
   ],
   "source": [
    "selected_data_clean = selected_data.dropna()\n",
    "selected_data_clean.head()"
   ]
  },
  {
   "cell_type": "code",
   "execution_count": 195,
   "metadata": {},
   "outputs": [],
   "source": [
    "selected_data_clean = selected_data_clean[selected_data_clean['Household Income'] != -666666666]"
   ]
  },
  {
   "cell_type": "code",
   "execution_count": 196,
   "metadata": {},
   "outputs": [],
   "source": [
    "selected_data_clean = selected_data_clean[selected_data_clean['Median Age'] != -666666666]"
   ]
  },
  {
   "cell_type": "code",
   "execution_count": 197,
   "metadata": {},
   "outputs": [
    {
     "data": {
      "text/html": [
       "<div>\n",
       "<style scoped>\n",
       "    .dataframe tbody tr th:only-of-type {\n",
       "        vertical-align: middle;\n",
       "    }\n",
       "\n",
       "    .dataframe tbody tr th {\n",
       "        vertical-align: top;\n",
       "    }\n",
       "\n",
       "    .dataframe thead th {\n",
       "        text-align: right;\n",
       "    }\n",
       "</style>\n",
       "<table border=\"1\" class=\"dataframe\">\n",
       "  <thead>\n",
       "    <tr style=\"text-align: right;\">\n",
       "      <th></th>\n",
       "      <th>Year</th>\n",
       "      <th>Median Age</th>\n",
       "      <th>Household Income</th>\n",
       "      <th>No Education</th>\n",
       "      <th>High School Education</th>\n",
       "      <th>GED</th>\n",
       "      <th>Associates</th>\n",
       "      <th>Bachelors</th>\n",
       "      <th>Masters</th>\n",
       "      <th>Professional</th>\n",
       "      <th>Doctorate</th>\n",
       "    </tr>\n",
       "  </thead>\n",
       "  <tbody>\n",
       "    <tr>\n",
       "      <th>0</th>\n",
       "      <td>2018</td>\n",
       "      <td>40.5</td>\n",
       "      <td>13092.0</td>\n",
       "      <td>492.0</td>\n",
       "      <td>2868.0</td>\n",
       "      <td>160.0</td>\n",
       "      <td>888.0</td>\n",
       "      <td>1781.0</td>\n",
       "      <td>216.0</td>\n",
       "      <td>15.0</td>\n",
       "      <td>79.0</td>\n",
       "    </tr>\n",
       "    <tr>\n",
       "      <th>1</th>\n",
       "      <td>2018</td>\n",
       "      <td>42.3</td>\n",
       "      <td>16358.0</td>\n",
       "      <td>901.0</td>\n",
       "      <td>5751.0</td>\n",
       "      <td>947.0</td>\n",
       "      <td>3387.0</td>\n",
       "      <td>3692.0</td>\n",
       "      <td>1119.0</td>\n",
       "      <td>201.0</td>\n",
       "      <td>312.0</td>\n",
       "    </tr>\n",
       "    <tr>\n",
       "      <th>2</th>\n",
       "      <td>2018</td>\n",
       "      <td>41.1</td>\n",
       "      <td>16603.0</td>\n",
       "      <td>924.0</td>\n",
       "      <td>8745.0</td>\n",
       "      <td>996.0</td>\n",
       "      <td>2370.0</td>\n",
       "      <td>5888.0</td>\n",
       "      <td>1437.0</td>\n",
       "      <td>297.0</td>\n",
       "      <td>280.0</td>\n",
       "    </tr>\n",
       "    <tr>\n",
       "      <th>3</th>\n",
       "      <td>2018</td>\n",
       "      <td>43.3</td>\n",
       "      <td>12832.0</td>\n",
       "      <td>185.0</td>\n",
       "      <td>1284.0</td>\n",
       "      <td>138.0</td>\n",
       "      <td>241.0</td>\n",
       "      <td>311.0</td>\n",
       "      <td>120.0</td>\n",
       "      <td>0.0</td>\n",
       "      <td>0.0</td>\n",
       "    </tr>\n",
       "    <tr>\n",
       "      <th>4</th>\n",
       "      <td>2018</td>\n",
       "      <td>42.1</td>\n",
       "      <td>19309.0</td>\n",
       "      <td>643.0</td>\n",
       "      <td>4945.0</td>\n",
       "      <td>624.0</td>\n",
       "      <td>2241.0</td>\n",
       "      <td>2498.0</td>\n",
       "      <td>749.0</td>\n",
       "      <td>54.0</td>\n",
       "      <td>66.0</td>\n",
       "    </tr>\n",
       "    <tr>\n",
       "      <th>...</th>\n",
       "      <td>...</td>\n",
       "      <td>...</td>\n",
       "      <td>...</td>\n",
       "      <td>...</td>\n",
       "      <td>...</td>\n",
       "      <td>...</td>\n",
       "      <td>...</td>\n",
       "      <td>...</td>\n",
       "      <td>...</td>\n",
       "      <td>...</td>\n",
       "      <td>...</td>\n",
       "    </tr>\n",
       "    <tr>\n",
       "      <th>166901</th>\n",
       "      <td>2022</td>\n",
       "      <td>46.8</td>\n",
       "      <td>59219.0</td>\n",
       "      <td>0.0</td>\n",
       "      <td>381.0</td>\n",
       "      <td>71.0</td>\n",
       "      <td>96.0</td>\n",
       "      <td>230.0</td>\n",
       "      <td>119.0</td>\n",
       "      <td>4.0</td>\n",
       "      <td>2.0</td>\n",
       "    </tr>\n",
       "    <tr>\n",
       "      <th>166902</th>\n",
       "      <td>2022</td>\n",
       "      <td>39.0</td>\n",
       "      <td>53125.0</td>\n",
       "      <td>0.0</td>\n",
       "      <td>94.0</td>\n",
       "      <td>23.0</td>\n",
       "      <td>9.0</td>\n",
       "      <td>17.0</td>\n",
       "      <td>15.0</td>\n",
       "      <td>0.0</td>\n",
       "      <td>0.0</td>\n",
       "    </tr>\n",
       "    <tr>\n",
       "      <th>166904</th>\n",
       "      <td>2022</td>\n",
       "      <td>43.0</td>\n",
       "      <td>80313.0</td>\n",
       "      <td>0.0</td>\n",
       "      <td>191.0</td>\n",
       "      <td>63.0</td>\n",
       "      <td>53.0</td>\n",
       "      <td>86.0</td>\n",
       "      <td>28.0</td>\n",
       "      <td>0.0</td>\n",
       "      <td>0.0</td>\n",
       "    </tr>\n",
       "    <tr>\n",
       "      <th>166905</th>\n",
       "      <td>2022</td>\n",
       "      <td>37.9</td>\n",
       "      <td>78365.0</td>\n",
       "      <td>0.0</td>\n",
       "      <td>299.0</td>\n",
       "      <td>67.0</td>\n",
       "      <td>125.0</td>\n",
       "      <td>43.0</td>\n",
       "      <td>40.0</td>\n",
       "      <td>3.0</td>\n",
       "      <td>4.0</td>\n",
       "    </tr>\n",
       "    <tr>\n",
       "      <th>166907</th>\n",
       "      <td>2022</td>\n",
       "      <td>48.9</td>\n",
       "      <td>61125.0</td>\n",
       "      <td>1.0</td>\n",
       "      <td>452.0</td>\n",
       "      <td>68.0</td>\n",
       "      <td>150.0</td>\n",
       "      <td>217.0</td>\n",
       "      <td>50.0</td>\n",
       "      <td>8.0</td>\n",
       "      <td>6.0</td>\n",
       "    </tr>\n",
       "  </tbody>\n",
       "</table>\n",
       "<p>153558 rows × 11 columns</p>\n",
       "</div>"
      ],
      "text/plain": [
       "        Year  Median Age  Household Income  No Education  \\\n",
       "0       2018        40.5           13092.0         492.0   \n",
       "1       2018        42.3           16358.0         901.0   \n",
       "2       2018        41.1           16603.0         924.0   \n",
       "3       2018        43.3           12832.0         185.0   \n",
       "4       2018        42.1           19309.0         643.0   \n",
       "...      ...         ...               ...           ...   \n",
       "166901  2022        46.8           59219.0           0.0   \n",
       "166902  2022        39.0           53125.0           0.0   \n",
       "166904  2022        43.0           80313.0           0.0   \n",
       "166905  2022        37.9           78365.0           0.0   \n",
       "166907  2022        48.9           61125.0           1.0   \n",
       "\n",
       "        High School Education    GED  Associates  Bachelors  Masters  \\\n",
       "0                      2868.0  160.0       888.0     1781.0    216.0   \n",
       "1                      5751.0  947.0      3387.0     3692.0   1119.0   \n",
       "2                      8745.0  996.0      2370.0     5888.0   1437.0   \n",
       "3                      1284.0  138.0       241.0      311.0    120.0   \n",
       "4                      4945.0  624.0      2241.0     2498.0    749.0   \n",
       "...                       ...    ...         ...        ...      ...   \n",
       "166901                  381.0   71.0        96.0      230.0    119.0   \n",
       "166902                   94.0   23.0         9.0       17.0     15.0   \n",
       "166904                  191.0   63.0        53.0       86.0     28.0   \n",
       "166905                  299.0   67.0       125.0       43.0     40.0   \n",
       "166907                  452.0   68.0       150.0      217.0     50.0   \n",
       "\n",
       "        Professional  Doctorate  \n",
       "0               15.0       79.0  \n",
       "1              201.0      312.0  \n",
       "2              297.0      280.0  \n",
       "3                0.0        0.0  \n",
       "4               54.0       66.0  \n",
       "...              ...        ...  \n",
       "166901           4.0        2.0  \n",
       "166902           0.0        0.0  \n",
       "166904           0.0        0.0  \n",
       "166905           3.0        4.0  \n",
       "166907           8.0        6.0  \n",
       "\n",
       "[153558 rows x 11 columns]"
      ]
     },
     "execution_count": 197,
     "metadata": {},
     "output_type": "execute_result"
    }
   ],
   "source": [
    "selected_data_clean"
   ]
  },
  {
   "cell_type": "code",
   "execution_count": 198,
   "metadata": {},
   "outputs": [
    {
     "name": "stdout",
     "output_type": "stream",
     "text": [
      "Average of citizens with No Education for 2018: 104.20\n",
      "Average of citizens with No Education for 2019: 105.89\n",
      "Average of citizens with No Education for 2020: 114.81\n",
      "Average of citizens with No Education for 2021: 122.26\n",
      "Average of citizens with No Education for 2022: 131.03\n"
     ]
    }
   ],
   "source": [
    "desired_years = range(2018, 2023)\n",
    "no_education_average = []\n",
    "\n",
    "for year in desired_years:\n",
    "    average_no_education_for_year = selected_data_clean[selected_data_clean['Year'] ==year]['No Education'].mean()\n",
    "    rounded_average_no_education = \"{:.2f}\".format(average_no_education_for_year)\n",
    "    no_education_average.append((rounded_average_no_education))\n",
    "    print(f'Average of citizens with No Education for {year}: {rounded_average_no_education}')"
   ]
  },
  {
   "cell_type": "code",
   "execution_count": 199,
   "metadata": {},
   "outputs": [
    {
     "data": {
      "text/plain": [
       "['104.20', '105.89', '114.81', '122.26', '131.03']"
      ]
     },
     "execution_count": 199,
     "metadata": {},
     "output_type": "execute_result"
    }
   ],
   "source": [
    "no_education_average"
   ]
  },
  {
   "cell_type": "code",
   "execution_count": 258,
   "metadata": {},
   "outputs": [
    {
     "name": "stdout",
     "output_type": "stream",
     "text": [
      "The total of citizens with No Education for 2018: 3,218,903\n",
      "The total of citizens with No Education for 2019: 3,263,491\n",
      "The total of citizens with No Education for 2020: 3,509,101\n",
      "The total of citizens with No Education for 2021: 3,748,477\n",
      "The total of citizens with No Education for 2022: 4,012,300\n"
     ]
    }
   ],
   "source": [
    "desired_years = range(2018, 2023)\n",
    "no_education_sum = []\n",
    "\n",
    "for year in desired_years:\n",
    "    sum_no_education_for_year = selected_data_clean[selected_data_clean['Year'] ==year]['No Education'].sum()\n",
    "    rounded_sum_no_education = int(sum_no_education_for_year)\n",
    "    formatted_sum_no_education = '{:,.0f}'.format(rounded_sum_no_education)\n",
    "    no_education_sum.append((formatted_sum_no_education))\n",
    "    print(f'The total of citizens with No Education for {year}: {formatted_sum_no_education}')"
   ]
  },
  {
   "cell_type": "code",
   "execution_count": 259,
   "metadata": {},
   "outputs": [
    {
     "data": {
      "text/plain": [
       "['3,218,903', '3,263,491', '3,509,101', '3,748,477', '4,012,300']"
      ]
     },
     "execution_count": 259,
     "metadata": {},
     "output_type": "execute_result"
    }
   ],
   "source": [
    "no_education_sum"
   ]
  },
  {
   "cell_type": "code",
   "execution_count": 202,
   "metadata": {},
   "outputs": [
    {
     "name": "stdout",
     "output_type": "stream",
     "text": [
      "Average of citizens with their highest level of education being High School Education for 2018: 1654.80\n",
      "Average of citizens with their highest level of education being High School Education for 2019: 1662.71\n",
      "Average of citizens with their highest level of education being High School Education for 2020: 1672.03\n",
      "Average of citizens with their highest level of education being High School Education for 2021: 1671.36\n",
      "Average of citizens with their highest level of education being High School Education for 2022: 1674.86\n"
     ]
    }
   ],
   "source": [
    "desired_years = range(2018, 2023)\n",
    "high_school_education_average = []\n",
    "\n",
    "for year in desired_years:\n",
    "    average_high_school_education_for_year = selected_data_clean[selected_data_clean['Year'] ==year]['High School Education'].mean()\n",
    "    rounded_average_high_school_education = \"{:.2f}\".format(average_high_school_education_for_year)\n",
    "    high_school_education_average.append((rounded_average_high_school_education))\n",
    "    print(f'Average of citizens with their highest level of education being High School Education for {year}: {rounded_average_high_school_education}')"
   ]
  },
  {
   "cell_type": "code",
   "execution_count": 203,
   "metadata": {},
   "outputs": [
    {
     "data": {
      "text/plain": [
       "['1654.80', '1662.71', '1672.03', '1671.36', '1674.86']"
      ]
     },
     "execution_count": 203,
     "metadata": {},
     "output_type": "execute_result"
    }
   ],
   "source": [
    "high_school_education_average"
   ]
  },
  {
   "cell_type": "code",
   "execution_count": 263,
   "metadata": {},
   "outputs": [
    {
     "name": "stdout",
     "output_type": "stream",
     "text": [
      "The total of citizens with their highest level of education being High School Education for 2018: 51,118,356\n",
      "The total of citizens with their highest level of education being High School Education for 2019: 51,246,276\n",
      "The total of citizens with their highest level of education being High School Education for 2020: 51,103,956\n",
      "The total of citizens with their highest level of education being High School Education for 2021: 51,245,522\n",
      "The total of citizens with their highest level of education being High School Education for 2022: 51,286,029\n"
     ]
    }
   ],
   "source": [
    "desired_years = range(2018, 2023)\n",
    "high_school_education_sum = []\n",
    "\n",
    "for year in desired_years:\n",
    "    sum_high_school_education_for_year = selected_data_clean[selected_data_clean['Year'] ==year]['High School Education'].sum()\n",
    "    rounded_sum_high_school_education = int(sum_high_school_education_for_year)\n",
    "    formatted_sum_high_school_education = '{:,.0f}'.format(rounded_sum_high_school_education)\n",
    "    high_school_education_sum.append((formatted_sum_high_school_education))\n",
    "    print(f'The total of citizens with their highest level of education being High School Education for {year}: {formatted_sum_high_school_education}')"
   ]
  },
  {
   "cell_type": "code",
   "execution_count": 264,
   "metadata": {},
   "outputs": [
    {
     "data": {
      "text/plain": [
       "['51,118,356', '51,246,276', '51,103,956', '51,245,522', '51,286,029']"
      ]
     },
     "execution_count": 264,
     "metadata": {},
     "output_type": "execute_result"
    }
   ],
   "source": [
    "high_school_education_sum"
   ]
  },
  {
   "cell_type": "code",
   "execution_count": 206,
   "metadata": {},
   "outputs": [
    {
     "name": "stdout",
     "output_type": "stream",
     "text": [
      "Average of citizens with their highest level of education being GED for 2018: 281.04\n",
      "Average of citizens with their highest level of education being GED for 2019: 284.11\n",
      "Average of citizens with their highest level of education being GED for 2020: 288.54\n",
      "Average of citizens with their highest level of education being GED for 2021: 289.43\n",
      "Average of citizens with their highest level of education being GED for 2022: 291.77\n"
     ]
    }
   ],
   "source": [
    "desired_years = range(2018, 2023)\n",
    "ged_education_average = []\n",
    "\n",
    "for year in desired_years:\n",
    "    average_ged_for_year = selected_data_clean[selected_data_clean['Year'] ==year]['GED'].mean()\n",
    "    rounded_average_ged_education = \"{:.2f}\".format(average_ged_for_year)\n",
    "    ged_education_average.append((rounded_average_ged_education))\n",
    "    print(f'Average of citizens with their highest level of education being GED for {year}: {rounded_average_ged_education}')"
   ]
  },
  {
   "cell_type": "code",
   "execution_count": 207,
   "metadata": {},
   "outputs": [
    {
     "data": {
      "text/plain": [
       "['281.04', '284.11', '288.54', '289.43', '291.77']"
      ]
     },
     "execution_count": 207,
     "metadata": {},
     "output_type": "execute_result"
    }
   ],
   "source": [
    "ged_education_average"
   ]
  },
  {
   "cell_type": "code",
   "execution_count": 265,
   "metadata": {},
   "outputs": [
    {
     "name": "stdout",
     "output_type": "stream",
     "text": [
      "The total of citizens with their highest level of education being GED for 2018: 8,681,535\n",
      "The total of citizens with their highest level of education being GED for 2019: 8,756,561\n",
      "The total of citizens with their highest level of education being GED for 2020: 8,818,922\n",
      "The total of citizens with their highest level of education being GED for 2021: 8,874,132\n",
      "The total of citizens with their highest level of education being GED for 2022: 8,934,288\n"
     ]
    }
   ],
   "source": [
    "desired_years = range(2018, 2023)\n",
    "ged_education_sum = []\n",
    "\n",
    "for year in desired_years:\n",
    "    sum_ged_for_year = selected_data_clean[selected_data_clean['Year'] ==year]['GED'].sum()\n",
    "    rounded_sum_ged_education = int(sum_ged_for_year)\n",
    "    formatted_sum_ged_education = '{:,.0f}'.format(rounded_sum_ged_education)\n",
    "    ged_education_sum.append((formatted_sum_ged_education))\n",
    "    print(f'The total of citizens with their highest level of education being GED for {year}: {formatted_sum_ged_education}')"
   ]
  },
  {
   "cell_type": "code",
   "execution_count": 266,
   "metadata": {},
   "outputs": [
    {
     "data": {
      "text/plain": [
       "['8,681,535', '8,756,561', '8,818,922', '8,874,132', '8,934,288']"
      ]
     },
     "execution_count": 266,
     "metadata": {},
     "output_type": "execute_result"
    }
   ],
   "source": [
    "ged_education_sum"
   ]
  },
  {
   "cell_type": "code",
   "execution_count": 210,
   "metadata": {},
   "outputs": [
    {
     "name": "stdout",
     "output_type": "stream",
     "text": [
      "Average of citizens with their highest level of education being Associates for 2018: 600.45\n",
      "Average of citizens with their highest level of education being Associates for 2019: 614.15\n",
      "Average of citizens with their highest level of education being Associates for 2020: 637.05\n",
      "Average of citizens with their highest level of education being Associates for 2021: 647.12\n",
      "Average of citizens with their highest level of education being Associates for 2022: 654.69\n"
     ]
    }
   ],
   "source": [
    "desired_years = range(2018, 2023)\n",
    "associates_education_average = []\n",
    "\n",
    "for year in desired_years:\n",
    "    average_assocaties_for_year = selected_data_clean[selected_data_clean['Year'] ==year]['Associates'].mean()\n",
    "    rounded_average_associates_education = \"{:.2f}\".format(average_assocaties_for_year)\n",
    "    associates_education_average.append((rounded_average_associates_education))\n",
    "    print(f'Average of citizens with their highest level of education being Associates for {year}: {rounded_average_associates_education}')"
   ]
  },
  {
   "cell_type": "code",
   "execution_count": 211,
   "metadata": {},
   "outputs": [
    {
     "data": {
      "text/plain": [
       "['600.45', '614.15', '637.05', '647.12', '654.69']"
      ]
     },
     "execution_count": 211,
     "metadata": {},
     "output_type": "execute_result"
    }
   ],
   "source": [
    "associates_education_average"
   ]
  },
  {
   "cell_type": "code",
   "execution_count": 267,
   "metadata": {},
   "outputs": [
    {
     "name": "stdout",
     "output_type": "stream",
     "text": [
      "The total of citizens with their highest level of education being Associates for 2018: 18,548,543\n",
      "The total of citizens with their highest level of education being Associates for 2019: 18,928,565\n",
      "The total of citizens with their highest level of education being Associates for 2020: 19,470,699\n",
      "The total of citizens with their highest level of education being Associates for 2021: 19,841,318\n",
      "The total of citizens with their highest level of education being Associates for 2022: 20,047,351\n"
     ]
    }
   ],
   "source": [
    "desired_years = range(2018, 2023)\n",
    "associates_education_sum= []\n",
    "\n",
    "for year in desired_years:\n",
    "    sum_assocaties_for_year = selected_data_clean[selected_data_clean['Year'] ==year]['Associates'].sum()\n",
    "    rounded_sum_associates_education = int(sum_assocaties_for_year)\n",
    "    formatted_assocites_education = '{:,.0f}'.format(rounded_sum_associates_education)\n",
    "    associates_education_sum.append((formatted_assocites_education))\n",
    "    print(f'The total of citizens with their highest level of education being Associates for {year}: {formatted_assocites_education}')"
   ]
  },
  {
   "cell_type": "code",
   "execution_count": 268,
   "metadata": {},
   "outputs": [
    {
     "data": {
      "text/plain": [
       "['18,548,543', '18,928,565', '19,470,699', '19,841,318', '20,047,351']"
      ]
     },
     "execution_count": 268,
     "metadata": {},
     "output_type": "execute_result"
    }
   ],
   "source": [
    "associates_education_sum"
   ]
  },
  {
   "cell_type": "code",
   "execution_count": 214,
   "metadata": {},
   "outputs": [
    {
     "name": "stdout",
     "output_type": "stream",
     "text": [
      "Average of citizens with their highest level of education being Bachelors for 2018: 1387.42\n",
      "Average of citizens with their highest level of education being Bachelors for 2019: 1428.94\n",
      "Average of citizens with their highest level of education being Bachelors for 2020: 1486.40\n",
      "Average of citizens with their highest level of education being Bachelors for 2021: 1525.32\n",
      "Average of citizens with their highest level of education being Bachelors for 2022: 1561.57\n"
     ]
    }
   ],
   "source": [
    "desired_years = range(2018, 2023)\n",
    "bachelors_education_average = []\n",
    "\n",
    "for year in desired_years:\n",
    "    average_bachelors_for_year = selected_data_clean[selected_data_clean['Year'] ==year]['Bachelors'].mean()\n",
    "    rounded_average_bachelors_education = \"{:.2f}\".format(average_bachelors_for_year)\n",
    "    bachelors_education_average.append((rounded_average_bachelors_education))\n",
    "    print(f'Average of citizens with their highest level of education being Bachelors for {year}: {rounded_average_bachelors_education}')"
   ]
  },
  {
   "cell_type": "code",
   "execution_count": 215,
   "metadata": {},
   "outputs": [
    {
     "data": {
      "text/plain": [
       "['1387.42', '1428.94', '1486.40', '1525.32', '1561.57']"
      ]
     },
     "execution_count": 215,
     "metadata": {},
     "output_type": "execute_result"
    }
   ],
   "source": [
    "bachelors_education_average"
   ]
  },
  {
   "cell_type": "code",
   "execution_count": 269,
   "metadata": {},
   "outputs": [
    {
     "name": "stdout",
     "output_type": "stream",
     "text": [
      "The total of citizens with their highest level of education being Bachelors for 2018: 42,858,829\n",
      "The total of citizens with their highest level of education being Bachelors for 2019: 44,041,261\n",
      "The total of citizens with their highest level of education being Bachelors for 2020: 45,430,388\n",
      "The total of citizens with their highest level of education being Bachelors for 2021: 46,767,742\n",
      "The total of citizens with their highest level of education being Bachelors for 2022: 47,816,690\n"
     ]
    }
   ],
   "source": [
    "desired_years = range(2018, 2023)\n",
    "bachelors_education_sum = []\n",
    "\n",
    "for year in desired_years:\n",
    "    sum_bachelors_for_year = selected_data_clean[selected_data_clean['Year'] ==year]['Bachelors'].sum()\n",
    "    rounded_sum_bachelors_education = int(sum_bachelors_for_year)\n",
    "    formatted_sum_bachelors_education = '{:,.0f}'.format(rounded_sum_bachelors_education)\n",
    "    bachelors_education_sum.append((formatted_sum_bachelors_education))\n",
    "    print(f'The total of citizens with their highest level of education being Bachelors for {year}: {formatted_sum_bachelors_education}')"
   ]
  },
  {
   "cell_type": "code",
   "execution_count": 270,
   "metadata": {},
   "outputs": [
    {
     "data": {
      "text/plain": [
       "['42,858,829', '44,041,261', '45,430,388', '46,767,742', '47,816,690']"
      ]
     },
     "execution_count": 270,
     "metadata": {},
     "output_type": "execute_result"
    }
   ],
   "source": [
    "bachelors_education_sum"
   ]
  },
  {
   "cell_type": "code",
   "execution_count": 218,
   "metadata": {},
   "outputs": [
    {
     "name": "stdout",
     "output_type": "stream",
     "text": [
      "Average of citizens with their highest level of education being Masters for 2018: 612.23\n",
      "Average of citizens with their highest level of education being Masters for 2019: 634.55\n",
      "Average of citizens with their highest level of education being Masters for 2020: 664.51\n",
      "Average of citizens with their highest level of education being Masters for 2021: 689.71\n",
      "Average of citizens with their highest level of education being Masters for 2022: 711.99\n"
     ]
    }
   ],
   "source": [
    "desired_years = range(2018, 2023)\n",
    "masters_education_average = []\n",
    "\n",
    "for year in desired_years:\n",
    "    average_masters_for_year = selected_data_clean[selected_data_clean['Year'] ==year]['Masters'].mean()\n",
    "    rounded_average_masters_education = \"{:.2f}\".format(average_masters_for_year)\n",
    "    masters_education_average.append((rounded_average_masters_education))\n",
    "    print(f'Average of citizens with their highest level of education being Masters for {year}: {rounded_average_masters_education}')"
   ]
  },
  {
   "cell_type": "code",
   "execution_count": 219,
   "metadata": {},
   "outputs": [
    {
     "data": {
      "text/plain": [
       "['612.23', '634.55', '664.51', '689.71', '711.99']"
      ]
     },
     "execution_count": 219,
     "metadata": {},
     "output_type": "execute_result"
    }
   ],
   "source": [
    "masters_education_average"
   ]
  },
  {
   "cell_type": "code",
   "execution_count": 271,
   "metadata": {},
   "outputs": [
    {
     "name": "stdout",
     "output_type": "stream",
     "text": [
      "The total of citizens with their highest level of education being Masters for 2018: 18,912,256\n",
      "The total of citizens with their highest level of education being Masters for 2019: 19,557,534\n",
      "The total of citizens with their highest level of education being Masters for 2020: 20,310,210\n",
      "The total of citizens with their highest level of education being Masters for 2021: 21,147,071\n",
      "The total of citizens with their highest level of education being Masters for 2022: 21,801,944\n"
     ]
    }
   ],
   "source": [
    "desired_years = range(2018, 2023)\n",
    "masters_education_sum = []\n",
    "\n",
    "for year in desired_years:\n",
    "    sum_masters_for_year = selected_data_clean[selected_data_clean['Year'] ==year]['Masters'].sum()\n",
    "    rounded_sum_masters_education = int(sum_masters_for_year)\n",
    "    formatted_sum_masters_education = '{:,.0f}'.format(rounded_sum_masters_education)\n",
    "    masters_education_sum.append((formatted_sum_masters_education))\n",
    "    print(f'The total of citizens with their highest level of education being Masters for {year}: {formatted_sum_masters_education}')"
   ]
  },
  {
   "cell_type": "code",
   "execution_count": 272,
   "metadata": {},
   "outputs": [
    {
     "data": {
      "text/plain": [
       "['18,912,256', '19,557,534', '20,310,210', '21,147,071', '21,801,944']"
      ]
     },
     "execution_count": 272,
     "metadata": {},
     "output_type": "execute_result"
    }
   ],
   "source": [
    "masters_education_sum"
   ]
  },
  {
   "cell_type": "code",
   "execution_count": 222,
   "metadata": {},
   "outputs": [
    {
     "name": "stdout",
     "output_type": "stream",
     "text": [
      "Average of citizens with their highest level of education being Professional for 2018: 147.74\n",
      "Average of citizens with their highest level of education being Professional for 2019: 152.67\n",
      "Average of citizens with their highest level of education being Professional for 2020: 159.91\n",
      "Average of citizens with their highest level of education being Professional for 2021: 164.31\n",
      "Average of citizens with their highest level of education being Professional for 2022: 168.05\n"
     ]
    }
   ],
   "source": [
    "desired_years = range(2018, 2023)\n",
    "professional_education_average = []\n",
    "\n",
    "for year in desired_years:\n",
    "    average_professional_for_year = selected_data_clean[selected_data_clean['Year'] ==year]['Professional'].mean()\n",
    "    rounded_average_professional_education = \"{:.2f}\".format(average_professional_for_year)\n",
    "    professional_education_average.append((rounded_average_professional_education))\n",
    "    print(f'Average of citizens with their highest level of education being Professional for {year}: {rounded_average_professional_education}')"
   ]
  },
  {
   "cell_type": "code",
   "execution_count": 223,
   "metadata": {},
   "outputs": [
    {
     "data": {
      "text/plain": [
       "['147.74', '152.67', '159.91', '164.31', '168.05']"
      ]
     },
     "execution_count": 223,
     "metadata": {},
     "output_type": "execute_result"
    }
   ],
   "source": [
    "professional_education_average"
   ]
  },
  {
   "cell_type": "code",
   "execution_count": 273,
   "metadata": {},
   "outputs": [
    {
     "name": "stdout",
     "output_type": "stream",
     "text": [
      "The total of citizens with their highest level of education being Professional for 2018: 4,563,978\n",
      "The total of citizens with their highest level of education being Professional for 2019: 4,705,549\n",
      "The total of citizens with their highest level of education being Professional for 2020: 4,887,376\n",
      "The total of citizens with their highest level of education being Professional for 2021: 5,037,864\n",
      "The total of citizens with their highest level of education being Professional for 2022: 5,145,750\n"
     ]
    }
   ],
   "source": [
    "desired_years = range(2018, 2023)\n",
    "professional_education_sum = []\n",
    "\n",
    "for year in desired_years:\n",
    "    sum_professional_for_year = selected_data_clean[selected_data_clean['Year'] ==year]['Professional'].sum()\n",
    "    rounded_sum_professional_education = int(sum_professional_for_year)\n",
    "    formatted_sum_professional_education = '{:,.0f}'.format(rounded_sum_professional_education)\n",
    "    professional_education_sum.append((formatted_sum_professional_education))\n",
    "    print(f'The total of citizens with their highest level of education being Professional for {year}: {formatted_sum_professional_education}')"
   ]
  },
  {
   "cell_type": "code",
   "execution_count": 274,
   "metadata": {},
   "outputs": [
    {
     "data": {
      "text/plain": [
       "['4,563,978', '4,705,549', '4,887,376', '5,037,864', '5,145,750']"
      ]
     },
     "execution_count": 274,
     "metadata": {},
     "output_type": "execute_result"
    }
   ],
   "source": [
    "professional_education_sum"
   ]
  },
  {
   "cell_type": "code",
   "execution_count": 226,
   "metadata": {},
   "outputs": [
    {
     "name": "stdout",
     "output_type": "stream",
     "text": [
      "Average of citizens with their highest level of education being Doctorate for 2018: 99.39\n",
      "Average of citizens with their highest level of education being Doctorate for 2019: 102.62\n",
      "Average of citizens with their highest level of education being Doctorate for 2020: 107.06\n",
      "Average of citizens with their highest level of education being Doctorate for 2021: 111.73\n",
      "Average of citizens with their highest level of education being Doctorate for 2022: 116.72\n"
     ]
    }
   ],
   "source": [
    "desired_years = range(2018, 2023)\n",
    "doctorate_education_average = []\n",
    "\n",
    "for year in desired_years:\n",
    "    average_doctorate_for_year = selected_data_clean[selected_data_clean['Year'] ==year]['Doctorate'].mean()\n",
    "    rounded_average_doctorate_education = \"{:.2f}\".format(average_doctorate_for_year)\n",
    "    doctorate_education_average.append((rounded_average_doctorate_education))\n",
    "    print(f'Average of citizens with their highest level of education being Doctorate for {year}: {rounded_average_doctorate_education}')"
   ]
  },
  {
   "cell_type": "code",
   "execution_count": 227,
   "metadata": {},
   "outputs": [
    {
     "data": {
      "text/plain": [
       "['99.39', '102.62', '107.06', '111.73', '116.72']"
      ]
     },
     "execution_count": 227,
     "metadata": {},
     "output_type": "execute_result"
    }
   ],
   "source": [
    "doctorate_education_average"
   ]
  },
  {
   "cell_type": "code",
   "execution_count": 275,
   "metadata": {},
   "outputs": [
    {
     "name": "stdout",
     "output_type": "stream",
     "text": [
      "The total of citizens with their highest level of education being Doctorate for 2018: 3,070,380\n",
      "The total of citizens with their highest level of education being Doctorate for 2019: 3,162,971\n",
      "The total of citizens with their highest level of education being Doctorate for 2020: 3,272,119\n",
      "The total of citizens with their highest level of education being Doctorate for 2021: 3,425,639\n",
      "The total of citizens with their highest level of education being Doctorate for 2022: 3,574,100\n"
     ]
    }
   ],
   "source": [
    "desired_years = range(2018, 2023)\n",
    "doctorate_education_sum = []\n",
    "\n",
    "for year in desired_years:\n",
    "    sum_doctorate_for_year = selected_data_clean[selected_data_clean['Year'] ==year]['Doctorate'].sum()\n",
    "    rounded_sum_doctorate_education = int(sum_doctorate_for_year)\n",
    "    formatted_sum_doctorate_education = '{:,.0f}'.format(rounded_sum_doctorate_education)\n",
    "    doctorate_education_sum.append((formatted_sum_doctorate_education))\n",
    "    print(f'The total of citizens with their highest level of education being Doctorate for {year}: {formatted_sum_doctorate_education}')"
   ]
  },
  {
   "cell_type": "code",
   "execution_count": 276,
   "metadata": {},
   "outputs": [
    {
     "data": {
      "text/plain": [
       "['3,070,380', '3,162,971', '3,272,119', '3,425,639', '3,574,100']"
      ]
     },
     "execution_count": 276,
     "metadata": {},
     "output_type": "execute_result"
    }
   ],
   "source": [
    "doctorate_education_sum"
   ]
  },
  {
   "cell_type": "code",
   "execution_count": 278,
   "metadata": {},
   "outputs": [
    {
     "name": "stdout",
     "output_type": "stream",
     "text": [
      "Average household income in 2018: 59,031.43\n",
      "Average household income in 2019: 61,302.54\n",
      "Average household income in 2020: 63,463.60\n",
      "Average household income in 2021: 67,280.94\n",
      "Average household income in 2022: 73,132.63\n"
     ]
    }
   ],
   "source": [
    "desired_years = range(2018, 2023)\n",
    "household_income_average = []\n",
    "\n",
    "for year in desired_years:\n",
    "    average_household_income_for_year = selected_data_clean[selected_data_clean['Year'] ==year]['Household Income'].mean()\n",
    "    rounded_household_income = \"{:,.2f}\".format(average_household_income_for_year)\n",
    "    household_income_average.append((rounded_household_income))\n",
    "    print(f'Average household income in {year}: {rounded_household_income}')"
   ]
  },
  {
   "cell_type": "code",
   "execution_count": 279,
   "metadata": {},
   "outputs": [
    {
     "data": {
      "text/plain": [
       "['59,031.43', '61,302.54', '63,463.60', '67,280.94', '73,132.63']"
      ]
     },
     "execution_count": 279,
     "metadata": {},
     "output_type": "execute_result"
    }
   ],
   "source": [
    "household_income_average"
   ]
  },
  {
   "cell_type": "code",
   "execution_count": 392,
   "metadata": {},
   "outputs": [
    {
     "data": {
      "text/html": [
       "<div>\n",
       "<style scoped>\n",
       "    .dataframe tbody tr th:only-of-type {\n",
       "        vertical-align: middle;\n",
       "    }\n",
       "\n",
       "    .dataframe tbody tr th {\n",
       "        vertical-align: top;\n",
       "    }\n",
       "\n",
       "    .dataframe thead th {\n",
       "        text-align: right;\n",
       "    }\n",
       "</style>\n",
       "<table border=\"1\" class=\"dataframe\">\n",
       "  <thead>\n",
       "    <tr style=\"text-align: right;\">\n",
       "      <th></th>\n",
       "      <th>average_household_income</th>\n",
       "      <th>average_no_education</th>\n",
       "      <th>average_high_school</th>\n",
       "      <th>average_ged</th>\n",
       "      <th>average_associates</th>\n",
       "      <th>average_bachelors</th>\n",
       "      <th>average_masters</th>\n",
       "      <th>average_professional</th>\n",
       "      <th>average_doctorate</th>\n",
       "    </tr>\n",
       "  </thead>\n",
       "  <tbody>\n",
       "    <tr>\n",
       "      <th>2018</th>\n",
       "      <td>59,031.43</td>\n",
       "      <td>104.20</td>\n",
       "      <td>1654.80</td>\n",
       "      <td>281.04</td>\n",
       "      <td>600.45</td>\n",
       "      <td>1387.42</td>\n",
       "      <td>612.23</td>\n",
       "      <td>147.74</td>\n",
       "      <td>99.39</td>\n",
       "    </tr>\n",
       "    <tr>\n",
       "      <th>2019</th>\n",
       "      <td>61,302.54</td>\n",
       "      <td>105.89</td>\n",
       "      <td>1662.71</td>\n",
       "      <td>284.11</td>\n",
       "      <td>614.15</td>\n",
       "      <td>1428.94</td>\n",
       "      <td>634.55</td>\n",
       "      <td>152.67</td>\n",
       "      <td>102.62</td>\n",
       "    </tr>\n",
       "    <tr>\n",
       "      <th>2020</th>\n",
       "      <td>63,463.60</td>\n",
       "      <td>114.81</td>\n",
       "      <td>1672.03</td>\n",
       "      <td>288.54</td>\n",
       "      <td>637.05</td>\n",
       "      <td>1486.40</td>\n",
       "      <td>664.51</td>\n",
       "      <td>159.91</td>\n",
       "      <td>107.06</td>\n",
       "    </tr>\n",
       "    <tr>\n",
       "      <th>2021</th>\n",
       "      <td>67,280.94</td>\n",
       "      <td>122.26</td>\n",
       "      <td>1671.36</td>\n",
       "      <td>289.43</td>\n",
       "      <td>647.12</td>\n",
       "      <td>1525.32</td>\n",
       "      <td>689.71</td>\n",
       "      <td>164.31</td>\n",
       "      <td>111.73</td>\n",
       "    </tr>\n",
       "    <tr>\n",
       "      <th>2022</th>\n",
       "      <td>73,132.63</td>\n",
       "      <td>131.03</td>\n",
       "      <td>1674.86</td>\n",
       "      <td>291.77</td>\n",
       "      <td>654.69</td>\n",
       "      <td>1561.57</td>\n",
       "      <td>711.99</td>\n",
       "      <td>168.05</td>\n",
       "      <td>116.72</td>\n",
       "    </tr>\n",
       "  </tbody>\n",
       "</table>\n",
       "</div>"
      ],
      "text/plain": [
       "     average_household_income average_no_education average_high_school  \\\n",
       "2018                59,031.43               104.20             1654.80   \n",
       "2019                61,302.54               105.89             1662.71   \n",
       "2020                63,463.60               114.81             1672.03   \n",
       "2021                67,280.94               122.26             1671.36   \n",
       "2022                73,132.63               131.03             1674.86   \n",
       "\n",
       "     average_ged average_associates average_bachelors average_masters  \\\n",
       "2018      281.04             600.45           1387.42          612.23   \n",
       "2019      284.11             614.15           1428.94          634.55   \n",
       "2020      288.54             637.05           1486.40          664.51   \n",
       "2021      289.43             647.12           1525.32          689.71   \n",
       "2022      291.77             654.69           1561.57          711.99   \n",
       "\n",
       "     average_professional average_doctorate  \n",
       "2018               147.74             99.39  \n",
       "2019               152.67            102.62  \n",
       "2020               159.91            107.06  \n",
       "2021               164.31            111.73  \n",
       "2022               168.05            116.72  "
      ]
     },
     "execution_count": 392,
     "metadata": {},
     "output_type": "execute_result"
    }
   ],
   "source": [
    "# Pull in averages\n",
    "averages = {\n",
    "    'average_household_income': household_income_average,\n",
    "    'average_no_education': no_education_average,\n",
    "    'average_high_school': high_school_education_average,\n",
    "    'average_ged': ged_education_average,\n",
    "    'average_associates': associates_education_average,\n",
    "    'average_bachelors': bachelors_education_average,\n",
    "    'average_masters': masters_education_average,\n",
    "    'average_professional': professional_education_average,\n",
    "    'average_doctorate': doctorate_education_average\n",
    "}\n",
    "\n",
    "# Add a 'year' column\n",
    "years = [2018, 2019, 2020, 2021, 2022]\n",
    "average_education = pd.DataFrame(averages, index=years)\n",
    "\n",
    "average_education"
   ]
  },
  {
   "cell_type": "code",
   "execution_count": 313,
   "metadata": {},
   "outputs": [
    {
     "name": "stdout",
     "output_type": "stream",
     "text": [
      "average_household_income    object\n",
      "average_no_education        object\n",
      "average_high_school         object\n",
      "average_ged                 object\n",
      "average_associates          object\n",
      "average_bachelors           object\n",
      "average_masters             object\n",
      "average_professiobal        object\n",
      "average_doctorate           object\n",
      "dtype: object\n"
     ]
    }
   ],
   "source": [
    "print(average_education.dtypes)"
   ]
  },
  {
   "cell_type": "code",
   "execution_count": 463,
   "metadata": {},
   "outputs": [],
   "source": [
    "#average_education = average_education.apply(pd.to_numeric, errors='coerce')\n",
    "for column in average_education.columns:\n",
    "    if average_education[column].dtype == 'object':\n",
    "        average_education[column] = average_education[column].str.replace(',', '')\n",
    "average_education = average_education.apply(pd.to_numeric, errors='coerce')"
   ]
  },
  {
   "cell_type": "code",
   "execution_count": 464,
   "metadata": {},
   "outputs": [
    {
     "name": "stdout",
     "output_type": "stream",
     "text": [
      "average_household_income    float64\n",
      "average_no_education        float64\n",
      "average_high_school         float64\n",
      "average_ged                 float64\n",
      "average_associates          float64\n",
      "average_bachelors           float64\n",
      "average_masters             float64\n",
      "average_professional        float64\n",
      "average_doctorate           float64\n",
      "dtype: object\n"
     ]
    }
   ],
   "source": [
    "print(average_education.dtypes)"
   ]
  },
  {
   "cell_type": "code",
   "execution_count": 391,
   "metadata": {},
   "outputs": [
    {
     "data": {
      "text/html": [
       "<div>\n",
       "<style scoped>\n",
       "    .dataframe tbody tr th:only-of-type {\n",
       "        vertical-align: middle;\n",
       "    }\n",
       "\n",
       "    .dataframe tbody tr th {\n",
       "        vertical-align: top;\n",
       "    }\n",
       "\n",
       "    .dataframe thead th {\n",
       "        text-align: right;\n",
       "    }\n",
       "</style>\n",
       "<table border=\"1\" class=\"dataframe\">\n",
       "  <thead>\n",
       "    <tr style=\"text-align: right;\">\n",
       "      <th></th>\n",
       "      <th>average_household_income</th>\n",
       "      <th>total_no_education</th>\n",
       "      <th>total_high_school</th>\n",
       "      <th>total_ged</th>\n",
       "      <th>total_associates</th>\n",
       "      <th>total_bachelors</th>\n",
       "      <th>total_masters</th>\n",
       "      <th>total_professional</th>\n",
       "      <th>total_doctorate</th>\n",
       "    </tr>\n",
       "  </thead>\n",
       "  <tbody>\n",
       "    <tr>\n",
       "      <th>2018</th>\n",
       "      <td>59,031.43</td>\n",
       "      <td>3,218,903</td>\n",
       "      <td>51,118,356</td>\n",
       "      <td>8,681,535</td>\n",
       "      <td>18,548,543</td>\n",
       "      <td>42,858,829</td>\n",
       "      <td>18,912,256</td>\n",
       "      <td>4,563,978</td>\n",
       "      <td>3,070,380</td>\n",
       "    </tr>\n",
       "    <tr>\n",
       "      <th>2019</th>\n",
       "      <td>61,302.54</td>\n",
       "      <td>3,263,491</td>\n",
       "      <td>51,246,276</td>\n",
       "      <td>8,756,561</td>\n",
       "      <td>18,928,565</td>\n",
       "      <td>44,041,261</td>\n",
       "      <td>19,557,534</td>\n",
       "      <td>4,705,549</td>\n",
       "      <td>3,162,971</td>\n",
       "    </tr>\n",
       "    <tr>\n",
       "      <th>2020</th>\n",
       "      <td>63,463.60</td>\n",
       "      <td>3,509,101</td>\n",
       "      <td>51,103,956</td>\n",
       "      <td>8,818,922</td>\n",
       "      <td>19,470,699</td>\n",
       "      <td>45,430,388</td>\n",
       "      <td>20,310,210</td>\n",
       "      <td>4,887,376</td>\n",
       "      <td>3,272,119</td>\n",
       "    </tr>\n",
       "    <tr>\n",
       "      <th>2021</th>\n",
       "      <td>67,280.94</td>\n",
       "      <td>3,748,477</td>\n",
       "      <td>51,245,522</td>\n",
       "      <td>8,874,132</td>\n",
       "      <td>19,841,318</td>\n",
       "      <td>46,767,742</td>\n",
       "      <td>21,147,071</td>\n",
       "      <td>5,037,864</td>\n",
       "      <td>3,425,639</td>\n",
       "    </tr>\n",
       "    <tr>\n",
       "      <th>2022</th>\n",
       "      <td>73,132.63</td>\n",
       "      <td>4,012,300</td>\n",
       "      <td>51,286,029</td>\n",
       "      <td>8,934,288</td>\n",
       "      <td>20,047,351</td>\n",
       "      <td>47,816,690</td>\n",
       "      <td>21,801,944</td>\n",
       "      <td>5,145,750</td>\n",
       "      <td>3,574,100</td>\n",
       "    </tr>\n",
       "  </tbody>\n",
       "</table>\n",
       "</div>"
      ],
      "text/plain": [
       "     average_household_income total_no_education total_high_school  total_ged  \\\n",
       "2018                59,031.43          3,218,903        51,118,356  8,681,535   \n",
       "2019                61,302.54          3,263,491        51,246,276  8,756,561   \n",
       "2020                63,463.60          3,509,101        51,103,956  8,818,922   \n",
       "2021                67,280.94          3,748,477        51,245,522  8,874,132   \n",
       "2022                73,132.63          4,012,300        51,286,029  8,934,288   \n",
       "\n",
       "     total_associates total_bachelors total_masters total_professional  \\\n",
       "2018       18,548,543      42,858,829    18,912,256          4,563,978   \n",
       "2019       18,928,565      44,041,261    19,557,534          4,705,549   \n",
       "2020       19,470,699      45,430,388    20,310,210          4,887,376   \n",
       "2021       19,841,318      46,767,742    21,147,071          5,037,864   \n",
       "2022       20,047,351      47,816,690    21,801,944          5,145,750   \n",
       "\n",
       "     total_doctorate  \n",
       "2018       3,070,380  \n",
       "2019       3,162,971  \n",
       "2020       3,272,119  \n",
       "2021       3,425,639  \n",
       "2022       3,574,100  "
      ]
     },
     "execution_count": 391,
     "metadata": {},
     "output_type": "execute_result"
    }
   ],
   "source": [
    "# Pull in sums\n",
    "sums = {\n",
    "    'average_household_income': household_income_average,\n",
    "    'total_no_education': no_education_sum,\n",
    "    'total_high_school': high_school_education_sum,\n",
    "    'total_ged': ged_education_sum,\n",
    "    'total_associates': associates_education_sum,\n",
    "    'total_bachelors': bachelors_education_sum,\n",
    "    'total_masters': masters_education_sum,\n",
    "    'total_professional': professional_education_sum,\n",
    "    'total_doctorate': doctorate_education_sum\n",
    "}\n",
    "\n",
    "# Add a 'year' column\n",
    "years = [2018, 2019, 2020, 2021, 2022]\n",
    "total_education = pd.DataFrame(sums, index=years)\n",
    "\n",
    "total_education"
   ]
  },
  {
   "cell_type": "code",
   "execution_count": 353,
   "metadata": {},
   "outputs": [
    {
     "name": "stdout",
     "output_type": "stream",
     "text": [
      "average_household_income    object\n",
      "total_no_education          object\n",
      "total_high_school           object\n",
      "total_ged                   object\n",
      "total_associates            object\n",
      "total_bachelors             object\n",
      "total_masters               object\n",
      "total_professiobal          object\n",
      "total_doctorate             object\n",
      "dtype: object\n"
     ]
    }
   ],
   "source": [
    "print(total_education.dtypes)"
   ]
  },
  {
   "cell_type": "code",
   "execution_count": 356,
   "metadata": {},
   "outputs": [
    {
     "name": "stdout",
     "output_type": "stream",
     "text": [
      "Unique values in average_household_income: ['59,031.43' '61,302.54' '63,463.60' '67,280.94' '73,132.63']\n",
      "Unique values in total_no_education: ['3,218,903' '3,263,491' '3,509,101' '3,748,477' '4,012,300']\n",
      "Unique values in total_high_school: ['51,118,356' '51,246,276' '51,103,956' '51,245,522' '51,286,029']\n",
      "Unique values in total_ged: ['8,681,535' '8,756,561' '8,818,922' '8,874,132' '8,934,288']\n",
      "Unique values in total_associates: ['18,548,543' '18,928,565' '19,470,699' '19,841,318' '20,047,351']\n",
      "Unique values in total_bachelors: ['42,858,829' '44,041,261' '45,430,388' '46,767,742' '47,816,690']\n",
      "Unique values in total_masters: ['18,912,256' '19,557,534' '20,310,210' '21,147,071' '21,801,944']\n",
      "Unique values in total_professiobal: ['4,563,978' '4,705,549' '4,887,376' '5,037,864' '5,145,750']\n",
      "Unique values in total_doctorate: ['3,070,380' '3,162,971' '3,272,119' '3,425,639' '3,574,100']\n"
     ]
    }
   ],
   "source": [
    "for column in total_education.columns:\n",
    "    unique_values = total_education[column].unique()\n",
    "    print(f\"Unique values in {column}: {unique_values}\")"
   ]
  },
  {
   "cell_type": "code",
   "execution_count": 357,
   "metadata": {},
   "outputs": [],
   "source": [
    "for column in total_education.columns:\n",
    "    if total_education[column].dtype == 'object':\n",
    "        total_education[column] = total_education[column].str.replace(',', '')\n",
    "total_education = total_education.apply(pd.to_numeric, errors='coerce')"
   ]
  },
  {
   "cell_type": "code",
   "execution_count": 359,
   "metadata": {},
   "outputs": [
    {
     "name": "stdout",
     "output_type": "stream",
     "text": [
      "average_household_income    float64\n",
      "total_no_education            int64\n",
      "total_high_school             int64\n",
      "total_ged                     int64\n",
      "total_associates              int64\n",
      "total_bachelors               int64\n",
      "total_masters                 int64\n",
      "total_professiobal            int64\n",
      "total_doctorate               int64\n",
      "dtype: object\n"
     ]
    }
   ],
   "source": [
    "print(total_education.dtypes)"
   ]
  },
  {
   "cell_type": "code",
   "execution_count": 360,
   "metadata": {},
   "outputs": [
    {
     "data": {
      "text/html": [
       "<div>\n",
       "<style scoped>\n",
       "    .dataframe tbody tr th:only-of-type {\n",
       "        vertical-align: middle;\n",
       "    }\n",
       "\n",
       "    .dataframe tbody tr th {\n",
       "        vertical-align: top;\n",
       "    }\n",
       "\n",
       "    .dataframe thead th {\n",
       "        text-align: right;\n",
       "    }\n",
       "</style>\n",
       "<table border=\"1\" class=\"dataframe\">\n",
       "  <thead>\n",
       "    <tr style=\"text-align: right;\">\n",
       "      <th></th>\n",
       "      <th>average_household_income</th>\n",
       "      <th>total_no_education</th>\n",
       "      <th>total_high_school</th>\n",
       "      <th>total_ged</th>\n",
       "      <th>total_associates</th>\n",
       "      <th>total_bachelors</th>\n",
       "      <th>total_masters</th>\n",
       "      <th>total_professiobal</th>\n",
       "      <th>total_doctorate</th>\n",
       "    </tr>\n",
       "  </thead>\n",
       "  <tbody>\n",
       "    <tr>\n",
       "      <th>2018</th>\n",
       "      <td>59031.43</td>\n",
       "      <td>3218903</td>\n",
       "      <td>51118356</td>\n",
       "      <td>8681535</td>\n",
       "      <td>18548543</td>\n",
       "      <td>42858829</td>\n",
       "      <td>18912256</td>\n",
       "      <td>4563978</td>\n",
       "      <td>3070380</td>\n",
       "    </tr>\n",
       "    <tr>\n",
       "      <th>2019</th>\n",
       "      <td>61302.54</td>\n",
       "      <td>3263491</td>\n",
       "      <td>51246276</td>\n",
       "      <td>8756561</td>\n",
       "      <td>18928565</td>\n",
       "      <td>44041261</td>\n",
       "      <td>19557534</td>\n",
       "      <td>4705549</td>\n",
       "      <td>3162971</td>\n",
       "    </tr>\n",
       "    <tr>\n",
       "      <th>2020</th>\n",
       "      <td>63463.60</td>\n",
       "      <td>3509101</td>\n",
       "      <td>51103956</td>\n",
       "      <td>8818922</td>\n",
       "      <td>19470699</td>\n",
       "      <td>45430388</td>\n",
       "      <td>20310210</td>\n",
       "      <td>4887376</td>\n",
       "      <td>3272119</td>\n",
       "    </tr>\n",
       "    <tr>\n",
       "      <th>2021</th>\n",
       "      <td>67280.94</td>\n",
       "      <td>3748477</td>\n",
       "      <td>51245522</td>\n",
       "      <td>8874132</td>\n",
       "      <td>19841318</td>\n",
       "      <td>46767742</td>\n",
       "      <td>21147071</td>\n",
       "      <td>5037864</td>\n",
       "      <td>3425639</td>\n",
       "    </tr>\n",
       "    <tr>\n",
       "      <th>2022</th>\n",
       "      <td>73132.63</td>\n",
       "      <td>4012300</td>\n",
       "      <td>51286029</td>\n",
       "      <td>8934288</td>\n",
       "      <td>20047351</td>\n",
       "      <td>47816690</td>\n",
       "      <td>21801944</td>\n",
       "      <td>5145750</td>\n",
       "      <td>3574100</td>\n",
       "    </tr>\n",
       "  </tbody>\n",
       "</table>\n",
       "</div>"
      ],
      "text/plain": [
       "      average_household_income  total_no_education  total_high_school  \\\n",
       "2018                  59031.43             3218903           51118356   \n",
       "2019                  61302.54             3263491           51246276   \n",
       "2020                  63463.60             3509101           51103956   \n",
       "2021                  67280.94             3748477           51245522   \n",
       "2022                  73132.63             4012300           51286029   \n",
       "\n",
       "      total_ged  total_associates  total_bachelors  total_masters  \\\n",
       "2018    8681535          18548543         42858829       18912256   \n",
       "2019    8756561          18928565         44041261       19557534   \n",
       "2020    8818922          19470699         45430388       20310210   \n",
       "2021    8874132          19841318         46767742       21147071   \n",
       "2022    8934288          20047351         47816690       21801944   \n",
       "\n",
       "      total_professiobal  total_doctorate  \n",
       "2018             4563978          3070380  \n",
       "2019             4705549          3162971  \n",
       "2020             4887376          3272119  \n",
       "2021             5037864          3425639  \n",
       "2022             5145750          3574100  "
      ]
     },
     "execution_count": 360,
     "metadata": {},
     "output_type": "execute_result"
    }
   ],
   "source": [
    "total_education"
   ]
  },
  {
   "cell_type": "code",
   "execution_count": 371,
   "metadata": {},
   "outputs": [
    {
     "data": {
      "image/png": "[encoded data removed]",
      "text/plain": [
       "<Figure size 640x480 with 1 Axes>"
      ]
     },
     "metadata": {},
     "output_type": "display_data"
    }
   ],
   "source": [
    "# Plot the average household income as a line chart\n",
    "house_avg = plt.plot(years, household_income_average, color=\"blue\", label=\"Average Household Income\")\n",
    "plt.legend()\n",
    "plt.xticks(years)\n",
    "plt.show()"
   ]
  },
  {
   "cell_type": "code",
   "execution_count": 483,
   "metadata": {},
   "outputs": [
    {
     "data": {
      "text/html": [
       "<div>\n",
       "<style scoped>\n",
       "    .dataframe tbody tr th:only-of-type {\n",
       "        vertical-align: middle;\n",
       "    }\n",
       "\n",
       "    .dataframe tbody tr th {\n",
       "        vertical-align: top;\n",
       "    }\n",
       "\n",
       "    .dataframe thead th {\n",
       "        text-align: right;\n",
       "    }\n",
       "</style>\n",
       "<table border=\"1\" class=\"dataframe\">\n",
       "  <thead>\n",
       "    <tr style=\"text-align: right;\">\n",
       "      <th></th>\n",
       "      <th>average_no_education</th>\n",
       "      <th>average_high_school</th>\n",
       "      <th>average_ged</th>\n",
       "      <th>average_associates</th>\n",
       "      <th>average_bachelors</th>\n",
       "      <th>average_masters</th>\n",
       "      <th>average_professional</th>\n",
       "      <th>average_doctorate</th>\n",
       "    </tr>\n",
       "  </thead>\n",
       "  <tbody>\n",
       "    <tr>\n",
       "      <th>2018</th>\n",
       "      <td>104.20</td>\n",
       "      <td>1654.80</td>\n",
       "      <td>281.04</td>\n",
       "      <td>600.45</td>\n",
       "      <td>1387.42</td>\n",
       "      <td>612.23</td>\n",
       "      <td>147.74</td>\n",
       "      <td>99.39</td>\n",
       "    </tr>\n",
       "    <tr>\n",
       "      <th>2019</th>\n",
       "      <td>105.89</td>\n",
       "      <td>1662.71</td>\n",
       "      <td>284.11</td>\n",
       "      <td>614.15</td>\n",
       "      <td>1428.94</td>\n",
       "      <td>634.55</td>\n",
       "      <td>152.67</td>\n",
       "      <td>102.62</td>\n",
       "    </tr>\n",
       "    <tr>\n",
       "      <th>2020</th>\n",
       "      <td>114.81</td>\n",
       "      <td>1672.03</td>\n",
       "      <td>288.54</td>\n",
       "      <td>637.05</td>\n",
       "      <td>1486.40</td>\n",
       "      <td>664.51</td>\n",
       "      <td>159.91</td>\n",
       "      <td>107.06</td>\n",
       "    </tr>\n",
       "    <tr>\n",
       "      <th>2021</th>\n",
       "      <td>122.26</td>\n",
       "      <td>1671.36</td>\n",
       "      <td>289.43</td>\n",
       "      <td>647.12</td>\n",
       "      <td>1525.32</td>\n",
       "      <td>689.71</td>\n",
       "      <td>164.31</td>\n",
       "      <td>111.73</td>\n",
       "    </tr>\n",
       "    <tr>\n",
       "      <th>2022</th>\n",
       "      <td>131.03</td>\n",
       "      <td>1674.86</td>\n",
       "      <td>291.77</td>\n",
       "      <td>654.69</td>\n",
       "      <td>1561.57</td>\n",
       "      <td>711.99</td>\n",
       "      <td>168.05</td>\n",
       "      <td>116.72</td>\n",
       "    </tr>\n",
       "  </tbody>\n",
       "</table>\n",
       "</div>"
      ],
      "text/plain": [
       "     average_no_education average_high_school average_ged average_associates  \\\n",
       "2018               104.20             1654.80      281.04             600.45   \n",
       "2019               105.89             1662.71      284.11             614.15   \n",
       "2020               114.81             1672.03      288.54             637.05   \n",
       "2021               122.26             1671.36      289.43             647.12   \n",
       "2022               131.03             1674.86      291.77             654.69   \n",
       "\n",
       "     average_bachelors average_masters average_professional average_doctorate  \n",
       "2018           1387.42          612.23               147.74             99.39  \n",
       "2019           1428.94          634.55               152.67            102.62  \n",
       "2020           1486.40          664.51               159.91            107.06  \n",
       "2021           1525.32          689.71               164.31            111.73  \n",
       "2022           1561.57          711.99               168.05            116.72  "
      ]
     },
     "execution_count": 483,
     "metadata": {},
     "output_type": "execute_result"
    }
   ],
   "source": [
    "# Pull in averages without average_household_income\n",
    "averages2 = {\n",
    "    'average_no_education': no_education_average,\n",
    "    'average_high_school': high_school_education_average,\n",
    "    'average_ged': ged_education_average,\n",
    "    'average_associates': associates_education_average,\n",
    "    'average_bachelors': bachelors_education_average,\n",
    "    'average_masters': masters_education_average,\n",
    "    'average_professional': professional_education_average,\n",
    "    'average_doctorate': doctorate_education_average\n",
    "}\n",
    "\n",
    "# Add a 'year' column\n",
    "years = [2018, 2019, 2020, 2021, 2022]\n",
    "average_education_main = pd.DataFrame(averages2, index=years)\n",
    "\n",
    "average_education_main"
   ]
  },
  {
   "cell_type": "code",
   "execution_count": 486,
   "metadata": {},
   "outputs": [
    {
     "name": "stdout",
     "output_type": "stream",
     "text": [
      "average_no_education    object\n",
      "average_high_school     object\n",
      "average_ged             object\n",
      "average_associates      object\n",
      "average_bachelors       object\n",
      "average_masters         object\n",
      "average_professional    object\n",
      "average_doctorate       object\n",
      "dtype: object\n"
     ]
    }
   ],
   "source": [
    "print(average_education_main.dtypes)"
   ]
  },
  {
   "cell_type": "code",
   "execution_count": 487,
   "metadata": {},
   "outputs": [],
   "source": [
    "for column in average_education_main.columns:\n",
    "    if average_education_main[column].dtype == 'object':\n",
    "        average_education_main[column] = average_education_main[column].str.replace(',', '')\n",
    "average_education_main_clean = average_education_main.apply(pd.to_numeric, errors='coerce')"
   ]
  },
  {
   "cell_type": "code",
   "execution_count": 488,
   "metadata": {},
   "outputs": [
    {
     "name": "stdout",
     "output_type": "stream",
     "text": [
      "average_no_education    float64\n",
      "average_high_school     float64\n",
      "average_ged             float64\n",
      "average_associates      float64\n",
      "average_bachelors       float64\n",
      "average_masters         float64\n",
      "average_professional    float64\n",
      "average_doctorate       float64\n",
      "dtype: object\n"
     ]
    }
   ],
   "source": [
    "print(average_education_main_clean.dtypes)"
   ]
  },
  {
   "cell_type": "code",
   "execution_count": 489,
   "metadata": {},
   "outputs": [
    {
     "data": {
      "text/html": [
       "<div>\n",
       "<style scoped>\n",
       "    .dataframe tbody tr th:only-of-type {\n",
       "        vertical-align: middle;\n",
       "    }\n",
       "\n",
       "    .dataframe tbody tr th {\n",
       "        vertical-align: top;\n",
       "    }\n",
       "\n",
       "    .dataframe thead th {\n",
       "        text-align: right;\n",
       "    }\n",
       "</style>\n",
       "<table border=\"1\" class=\"dataframe\">\n",
       "  <thead>\n",
       "    <tr style=\"text-align: right;\">\n",
       "      <th></th>\n",
       "      <th>average_no_education</th>\n",
       "      <th>average_high_school</th>\n",
       "      <th>average_ged</th>\n",
       "      <th>average_associates</th>\n",
       "      <th>average_bachelors</th>\n",
       "      <th>average_masters</th>\n",
       "      <th>average_professional</th>\n",
       "      <th>average_doctorate</th>\n",
       "    </tr>\n",
       "  </thead>\n",
       "  <tbody>\n",
       "    <tr>\n",
       "      <th>2018</th>\n",
       "      <td>104.20</td>\n",
       "      <td>1654.80</td>\n",
       "      <td>281.04</td>\n",
       "      <td>600.45</td>\n",
       "      <td>1387.42</td>\n",
       "      <td>612.23</td>\n",
       "      <td>147.74</td>\n",
       "      <td>99.39</td>\n",
       "    </tr>\n",
       "    <tr>\n",
       "      <th>2019</th>\n",
       "      <td>105.89</td>\n",
       "      <td>1662.71</td>\n",
       "      <td>284.11</td>\n",
       "      <td>614.15</td>\n",
       "      <td>1428.94</td>\n",
       "      <td>634.55</td>\n",
       "      <td>152.67</td>\n",
       "      <td>102.62</td>\n",
       "    </tr>\n",
       "    <tr>\n",
       "      <th>2020</th>\n",
       "      <td>114.81</td>\n",
       "      <td>1672.03</td>\n",
       "      <td>288.54</td>\n",
       "      <td>637.05</td>\n",
       "      <td>1486.40</td>\n",
       "      <td>664.51</td>\n",
       "      <td>159.91</td>\n",
       "      <td>107.06</td>\n",
       "    </tr>\n",
       "    <tr>\n",
       "      <th>2021</th>\n",
       "      <td>122.26</td>\n",
       "      <td>1671.36</td>\n",
       "      <td>289.43</td>\n",
       "      <td>647.12</td>\n",
       "      <td>1525.32</td>\n",
       "      <td>689.71</td>\n",
       "      <td>164.31</td>\n",
       "      <td>111.73</td>\n",
       "    </tr>\n",
       "    <tr>\n",
       "      <th>2022</th>\n",
       "      <td>131.03</td>\n",
       "      <td>1674.86</td>\n",
       "      <td>291.77</td>\n",
       "      <td>654.69</td>\n",
       "      <td>1561.57</td>\n",
       "      <td>711.99</td>\n",
       "      <td>168.05</td>\n",
       "      <td>116.72</td>\n",
       "    </tr>\n",
       "  </tbody>\n",
       "</table>\n",
       "</div>"
      ],
      "text/plain": [
       "      average_no_education  average_high_school  average_ged  \\\n",
       "2018                104.20              1654.80       281.04   \n",
       "2019                105.89              1662.71       284.11   \n",
       "2020                114.81              1672.03       288.54   \n",
       "2021                122.26              1671.36       289.43   \n",
       "2022                131.03              1674.86       291.77   \n",
       "\n",
       "      average_associates  average_bachelors  average_masters  \\\n",
       "2018              600.45            1387.42           612.23   \n",
       "2019              614.15            1428.94           634.55   \n",
       "2020              637.05            1486.40           664.51   \n",
       "2021              647.12            1525.32           689.71   \n",
       "2022              654.69            1561.57           711.99   \n",
       "\n",
       "      average_professional  average_doctorate  \n",
       "2018                147.74              99.39  \n",
       "2019                152.67             102.62  \n",
       "2020                159.91             107.06  \n",
       "2021                164.31             111.73  \n",
       "2022                168.05             116.72  "
      ]
     },
     "execution_count": 489,
     "metadata": {},
     "output_type": "execute_result"
    }
   ],
   "source": [
    "average_education_main_clean"
   ]
  },
  {
   "cell_type": "code",
   "execution_count": 427,
   "metadata": {},
   "outputs": [
    {
     "data": {
      "text/html": [
       "<div>\n",
       "<style scoped>\n",
       "    .dataframe tbody tr th:only-of-type {\n",
       "        vertical-align: middle;\n",
       "    }\n",
       "\n",
       "    .dataframe tbody tr th {\n",
       "        vertical-align: top;\n",
       "    }\n",
       "\n",
       "    .dataframe thead th {\n",
       "        text-align: right;\n",
       "    }\n",
       "</style>\n",
       "<table border=\"1\" class=\"dataframe\">\n",
       "  <thead>\n",
       "    <tr style=\"text-align: right;\">\n",
       "      <th></th>\n",
       "      <th>total_no_education</th>\n",
       "      <th>total_high_school</th>\n",
       "      <th>total_ged</th>\n",
       "      <th>total_associates</th>\n",
       "      <th>total_bachelors</th>\n",
       "      <th>total_masters</th>\n",
       "      <th>total_professional</th>\n",
       "      <th>total_doctorate</th>\n",
       "    </tr>\n",
       "  </thead>\n",
       "  <tbody>\n",
       "    <tr>\n",
       "      <th>2018</th>\n",
       "      <td>3,218,903</td>\n",
       "      <td>51,118,356</td>\n",
       "      <td>8,681,535</td>\n",
       "      <td>18,548,543</td>\n",
       "      <td>42,858,829</td>\n",
       "      <td>18,912,256</td>\n",
       "      <td>4,563,978</td>\n",
       "      <td>3,070,380</td>\n",
       "    </tr>\n",
       "    <tr>\n",
       "      <th>2019</th>\n",
       "      <td>3,263,491</td>\n",
       "      <td>51,246,276</td>\n",
       "      <td>8,756,561</td>\n",
       "      <td>18,928,565</td>\n",
       "      <td>44,041,261</td>\n",
       "      <td>19,557,534</td>\n",
       "      <td>4,705,549</td>\n",
       "      <td>3,162,971</td>\n",
       "    </tr>\n",
       "    <tr>\n",
       "      <th>2020</th>\n",
       "      <td>3,509,101</td>\n",
       "      <td>51,103,956</td>\n",
       "      <td>8,818,922</td>\n",
       "      <td>19,470,699</td>\n",
       "      <td>45,430,388</td>\n",
       "      <td>20,310,210</td>\n",
       "      <td>4,887,376</td>\n",
       "      <td>3,272,119</td>\n",
       "    </tr>\n",
       "    <tr>\n",
       "      <th>2021</th>\n",
       "      <td>3,748,477</td>\n",
       "      <td>51,245,522</td>\n",
       "      <td>8,874,132</td>\n",
       "      <td>19,841,318</td>\n",
       "      <td>46,767,742</td>\n",
       "      <td>21,147,071</td>\n",
       "      <td>5,037,864</td>\n",
       "      <td>3,425,639</td>\n",
       "    </tr>\n",
       "    <tr>\n",
       "      <th>2022</th>\n",
       "      <td>4,012,300</td>\n",
       "      <td>51,286,029</td>\n",
       "      <td>8,934,288</td>\n",
       "      <td>20,047,351</td>\n",
       "      <td>47,816,690</td>\n",
       "      <td>21,801,944</td>\n",
       "      <td>5,145,750</td>\n",
       "      <td>3,574,100</td>\n",
       "    </tr>\n",
       "  </tbody>\n",
       "</table>\n",
       "</div>"
      ],
      "text/plain": [
       "     total_no_education total_high_school  total_ged total_associates  \\\n",
       "2018          3,218,903        51,118,356  8,681,535       18,548,543   \n",
       "2019          3,263,491        51,246,276  8,756,561       18,928,565   \n",
       "2020          3,509,101        51,103,956  8,818,922       19,470,699   \n",
       "2021          3,748,477        51,245,522  8,874,132       19,841,318   \n",
       "2022          4,012,300        51,286,029  8,934,288       20,047,351   \n",
       "\n",
       "     total_bachelors total_masters total_professional total_doctorate  \n",
       "2018      42,858,829    18,912,256          4,563,978       3,070,380  \n",
       "2019      44,041,261    19,557,534          4,705,549       3,162,971  \n",
       "2020      45,430,388    20,310,210          4,887,376       3,272,119  \n",
       "2021      46,767,742    21,147,071          5,037,864       3,425,639  \n",
       "2022      47,816,690    21,801,944          5,145,750       3,574,100  "
      ]
     },
     "execution_count": 427,
     "metadata": {},
     "output_type": "execute_result"
    }
   ],
   "source": [
    "# Pull in sums\n",
    "sums2 = {\n",
    "    'total_no_education': no_education_sum,\n",
    "    'total_high_school': high_school_education_sum,\n",
    "    'total_ged': ged_education_sum,\n",
    "    'total_associates': associates_education_sum,\n",
    "    'total_bachelors': bachelors_education_sum,\n",
    "    'total_masters': masters_education_sum,\n",
    "    'total_professional': professional_education_sum,\n",
    "    'total_doctorate': doctorate_education_sum\n",
    "}\n",
    "\n",
    "# Add a 'year' column\n",
    "years = [2018, 2019, 2020, 2021, 2022]\n",
    "total_education_main = pd.DataFrame(sums2, index=years)\n",
    "\n",
    "total_education_main"
   ]
  },
  {
   "cell_type": "code",
   "execution_count": 413,
   "metadata": {},
   "outputs": [],
   "source": [
    "for column in total_education_main.columns:\n",
    "    if total_education_main[column].dtype == 'object':\n",
    "        total_education_main[column] = total_education_main[column].str.replace(',', '')\n",
    "total_education_main_clean = total_education_main.apply(pd.to_numeric, errors='coerce')"
   ]
  },
  {
   "cell_type": "code",
   "execution_count": 400,
   "metadata": {},
   "outputs": [
    {
     "name": "stdout",
     "output_type": "stream",
     "text": [
      "total_no_education    int64\n",
      "total_high_school     int64\n",
      "total_ged             int64\n",
      "total_associates      int64\n",
      "total_bachelors       int64\n",
      "total_masters         int64\n",
      "total_professional    int64\n",
      "total_doctorate       int64\n",
      "dtype: object\n"
     ]
    }
   ],
   "source": [
    "print(total_education_main_clean.dtypes)"
   ]
  },
  {
   "cell_type": "code",
   "execution_count": 414,
   "metadata": {},
   "outputs": [
    {
     "data": {
      "text/html": [
       "<div>\n",
       "<style scoped>\n",
       "    .dataframe tbody tr th:only-of-type {\n",
       "        vertical-align: middle;\n",
       "    }\n",
       "\n",
       "    .dataframe tbody tr th {\n",
       "        vertical-align: top;\n",
       "    }\n",
       "\n",
       "    .dataframe thead th {\n",
       "        text-align: right;\n",
       "    }\n",
       "</style>\n",
       "<table border=\"1\" class=\"dataframe\">\n",
       "  <thead>\n",
       "    <tr style=\"text-align: right;\">\n",
       "      <th></th>\n",
       "      <th>total_no_education</th>\n",
       "      <th>total_high_school</th>\n",
       "      <th>total_ged</th>\n",
       "      <th>total_associates</th>\n",
       "      <th>total_bachelors</th>\n",
       "      <th>total_masters</th>\n",
       "      <th>total_professional</th>\n",
       "      <th>total_doctorate</th>\n",
       "    </tr>\n",
       "  </thead>\n",
       "  <tbody>\n",
       "    <tr>\n",
       "      <th>2018</th>\n",
       "      <td>3218903</td>\n",
       "      <td>51118356</td>\n",
       "      <td>8681535</td>\n",
       "      <td>18548543</td>\n",
       "      <td>42858829</td>\n",
       "      <td>18912256</td>\n",
       "      <td>4563978</td>\n",
       "      <td>3070380</td>\n",
       "    </tr>\n",
       "    <tr>\n",
       "      <th>2019</th>\n",
       "      <td>3263491</td>\n",
       "      <td>51246276</td>\n",
       "      <td>8756561</td>\n",
       "      <td>18928565</td>\n",
       "      <td>44041261</td>\n",
       "      <td>19557534</td>\n",
       "      <td>4705549</td>\n",
       "      <td>3162971</td>\n",
       "    </tr>\n",
       "    <tr>\n",
       "      <th>2020</th>\n",
       "      <td>3509101</td>\n",
       "      <td>51103956</td>\n",
       "      <td>8818922</td>\n",
       "      <td>19470699</td>\n",
       "      <td>45430388</td>\n",
       "      <td>20310210</td>\n",
       "      <td>4887376</td>\n",
       "      <td>3272119</td>\n",
       "    </tr>\n",
       "    <tr>\n",
       "      <th>2021</th>\n",
       "      <td>3748477</td>\n",
       "      <td>51245522</td>\n",
       "      <td>8874132</td>\n",
       "      <td>19841318</td>\n",
       "      <td>46767742</td>\n",
       "      <td>21147071</td>\n",
       "      <td>5037864</td>\n",
       "      <td>3425639</td>\n",
       "    </tr>\n",
       "    <tr>\n",
       "      <th>2022</th>\n",
       "      <td>4012300</td>\n",
       "      <td>51286029</td>\n",
       "      <td>8934288</td>\n",
       "      <td>20047351</td>\n",
       "      <td>47816690</td>\n",
       "      <td>21801944</td>\n",
       "      <td>5145750</td>\n",
       "      <td>3574100</td>\n",
       "    </tr>\n",
       "  </tbody>\n",
       "</table>\n",
       "</div>"
      ],
      "text/plain": [
       "      total_no_education  total_high_school  total_ged  total_associates  \\\n",
       "2018             3218903           51118356    8681535          18548543   \n",
       "2019             3263491           51246276    8756561          18928565   \n",
       "2020             3509101           51103956    8818922          19470699   \n",
       "2021             3748477           51245522    8874132          19841318   \n",
       "2022             4012300           51286029    8934288          20047351   \n",
       "\n",
       "      total_bachelors  total_masters  total_professional  total_doctorate  \n",
       "2018         42858829       18912256             4563978          3070380  \n",
       "2019         44041261       19557534             4705549          3162971  \n",
       "2020         45430388       20310210             4887376          3272119  \n",
       "2021         46767742       21147071             5037864          3425639  \n",
       "2022         47816690       21801944             5145750          3574100  "
      ]
     },
     "execution_count": 414,
     "metadata": {},
     "output_type": "execute_result"
    }
   ],
   "source": [
    "total_education_main_clean"
   ]
  },
  {
   "cell_type": "code",
   "execution_count": 523,
   "metadata": {},
   "outputs": [
    {
     "data": {
      "image/png": "[encoded data removed]",
      "text/plain": [
       "<Figure size 640x480 with 1 Axes>"
      ]
     },
     "metadata": {},
     "output_type": "display_data"
    }
   ],
   "source": [
    "# Plot a line chart showing the total number of completed education levels by year\n",
    "plt.plot(total_education_main_clean.index, total_education_main_clean['total_no_education'], label='No Education')\n",
    "plt.plot(total_education_main_clean.index, total_education_main_clean['total_high_school'], label='High School')\n",
    "plt.plot(total_education_main_clean.index, total_education_main_clean['total_ged'], label='GED')\n",
    "plt.plot(total_education_main_clean.index, total_education_main_clean['total_associates'], label='Associates')\n",
    "plt.plot(total_education_main_clean.index, total_education_main_clean['total_bachelors'], label='Bachelors')\n",
    "plt.plot(total_education_main_clean.index, total_education_main_clean['total_masters'], label='Masters')\n",
    "plt.plot(total_education_main_clean.index, total_education_main_clean['total_professional'], label='Professional')\n",
    "plt.plot(total_education_main_clean.index, total_education_main_clean['total_doctorate'], label='Doctorate')\n",
    "\n",
    "# Customize the plot\n",
    "plt.title('The Total Number of Completed Education Levels by Year')\n",
    "plt.xlabel('Years')\n",
    "plt.ylabel('Total')\n",
    "plt.ticklabel_format(style='plain', axis='y')\n",
    "plt.legend(bbox_to_anchor=(1, 1))\n",
    "plt.grid(True)\n",
    "\n",
    "# Show the plot\n",
    "plt.xticks(total_education_main_clean.index)\n",
    "plt.show()"
   ]
  },
  {
   "cell_type": "code",
   "execution_count": 538,
   "metadata": {},
   "outputs": [
    {
     "data": {
      "image/png": "[encoded data removed]",
      "text/plain": [
       "<Figure size 640x480 with 1 Axes>"
      ]
     },
     "metadata": {},
     "output_type": "display_data"
    }
   ],
   "source": [
    "# Plot a line chart showing the total number of completed education levels by year\n",
    "plt.plot(total_education_main_clean.index, total_education_main_clean['total_associates'], label='Associates')\n",
    "plt.plot(total_education_main_clean.index, total_education_main_clean['total_bachelors'], label='Bachelors')\n",
    "plt.plot(total_education_main_clean.index, total_education_main_clean['total_masters'], label='Masters')\n",
    "\n",
    "# Customize the plot\n",
    "plt.title('The Total Number of Completed Education Levels by Year')\n",
    "plt.xlabel('Years')\n",
    "plt.ylabel('Total')\n",
    "plt.ticklabel_format(style='plain', axis='y')\n",
    "plt.legend(bbox_to_anchor=(1, 1))\n",
    "plt.grid(True)\n",
    "\n",
    "# Show the plot\n",
    "plt.xticks(total_education_main_clean.index)\n",
    "#plt.show()\n",
    "plt.savefig(r\"C:\\Users\\sym0002\\EdX_Bootcamp\\Project1/Fig3.png\")"
   ]
  },
  {
   "cell_type": "code",
   "execution_count": 515,
   "metadata": {},
   "outputs": [
    {
     "data": {
      "text/html": [
       "<div>\n",
       "<style scoped>\n",
       "    .dataframe tbody tr th:only-of-type {\n",
       "        vertical-align: middle;\n",
       "    }\n",
       "\n",
       "    .dataframe tbody tr th {\n",
       "        vertical-align: top;\n",
       "    }\n",
       "\n",
       "    .dataframe thead th {\n",
       "        text-align: right;\n",
       "    }\n",
       "</style>\n",
       "<table border=\"1\" class=\"dataframe\">\n",
       "  <thead>\n",
       "    <tr style=\"text-align: right;\">\n",
       "      <th></th>\n",
       "      <th>Associates Increased Amounts</th>\n",
       "      <th>Bachelors Increased Amounts</th>\n",
       "      <th>Masters Increased Amounts</th>\n",
       "    </tr>\n",
       "  </thead>\n",
       "  <tbody>\n",
       "    <tr>\n",
       "      <th>2019</th>\n",
       "      <td>380022</td>\n",
       "      <td>1382432</td>\n",
       "      <td>645278</td>\n",
       "    </tr>\n",
       "    <tr>\n",
       "      <th>2020</th>\n",
       "      <td>542134</td>\n",
       "      <td>1389127</td>\n",
       "      <td>752676</td>\n",
       "    </tr>\n",
       "    <tr>\n",
       "      <th>2021</th>\n",
       "      <td>370619</td>\n",
       "      <td>1337354</td>\n",
       "      <td>836861</td>\n",
       "    </tr>\n",
       "    <tr>\n",
       "      <th>2022</th>\n",
       "      <td>206033</td>\n",
       "      <td>1048948</td>\n",
       "      <td>654873</td>\n",
       "    </tr>\n",
       "  </tbody>\n",
       "</table>\n",
       "</div>"
      ],
      "text/plain": [
       "      Associates Increased Amounts  Bachelors Increased Amounts  \\\n",
       "2019                        380022                      1382432   \n",
       "2020                        542134                      1389127   \n",
       "2021                        370619                      1337354   \n",
       "2022                        206033                      1048948   \n",
       "\n",
       "      Masters Increased Amounts  \n",
       "2019                     645278  \n",
       "2020                     752676  \n",
       "2021                     836861  \n",
       "2022                     654873  "
      ]
     },
     "execution_count": 515,
     "metadata": {},
     "output_type": "execute_result"
    }
   ],
   "source": [
    "#Create a DataFrame from a list of dictionaries of the increased totals for associates, bachelors, and masters degrees\n",
    "increase = {\n",
    "    \"Associates Increased Amounts\": [380022, 542134, 370619, 206033],\n",
    "    \"Bachelors Increased Amounts\": [1382432, 1389127, 1337354, 1048948],\n",
    "    \"Masters Increased Amounts\": [645278, 752676, 836861, 654873]\n",
    "}\n",
    "\n",
    "#Add a year column\n",
    "year_range = [2019, 2020, 2021, 2022]\n",
    "yearly_increase = pd.DataFrame(increase, index=year_range)\n",
    "\n",
    "yearly_increase"
   ]
  },
  {
   "cell_type": "code",
   "execution_count": 537,
   "metadata": {},
   "outputs": [
    {
     "data": {
      "image/png": "[encoded data removed]",
      "text/plain": [
       "<Figure size 2000x500 with 1 Axes>"
      ]
     },
     "metadata": {},
     "output_type": "display_data"
    }
   ],
   "source": [
    "# Generate a bar plot showing the average number of persons with each type of education.\n",
    "three_bar_plot_increase = yearly_increase.plot(kind=\"bar\", figsize=(20,5), rot=360)\n",
    "three_bar_plot_increase.set_xticklabels(year_range)\n",
    "plt.title(\"The Total Number of INCREASED Completed Education Levels by Year\")\n",
    "plt.ylabel(\"Total\")\n",
    "plt.xlabel(\"Years\")\n",
    "plt.ticklabel_format(style='plain', axis='y')\n",
    "plt.legend(bbox_to_anchor=(1, 1))\n",
    "#plt.show()\n",
    "plt.tight_layout()\n",
    "plt.savefig(r\"C:\\Users\\sym0002\\EdX_Bootcamp\\Project1/Fig4.png\")"
   ]
  },
  {
   "cell_type": "markdown",
   "metadata": {},
   "source": []
  },
  {
   "cell_type": "code",
   "execution_count": 536,
   "metadata": {},
   "outputs": [
    {
     "data": {
      "image/png": "[encoded data removed]",
      "text/plain": [
       "<Figure size 640x480 with 1 Axes>"
      ]
     },
     "metadata": {},
     "output_type": "display_data"
    },
    {
     "data": {
      "text/plain": [
       "<Figure size 640x480 with 0 Axes>"
      ]
     },
     "metadata": {},
     "output_type": "display_data"
    }
   ],
   "source": [
    "# Plot a line chart showing the average number of completed education levels by year\n",
    "plt.plot(average_education.index, average_education['average_no_education'], label='No Education')\n",
    "plt.plot(average_education.index, average_education['average_high_school'], label='High School')\n",
    "plt.plot(average_education.index, average_education['average_ged'], label='GED')\n",
    "plt.plot(average_education.index, average_education['average_associates'], label='Associates')\n",
    "plt.plot(average_education.index, average_education['average_bachelors'], label='Bachelors')\n",
    "plt.plot(average_education.index, average_education['average_masters'], label='Masters')\n",
    "plt.plot(average_education.index, average_education['average_professional'], label='Professional')\n",
    "plt.plot(average_education.index, average_education['average_doctorate'], label='Doctorate')\n",
    "\n",
    "# Customize the plot\n",
    "plt.title('The Average Number of Completed Education Levels by Year')\n",
    "plt.xlabel('Years')\n",
    "plt.ylabel('Total')\n",
    "plt.legend(bbox_to_anchor=(1, 1))\n",
    "plt.grid(True)\n",
    "\n",
    "# Show the plot\n",
    "plt.xticks(average_education.index)\n",
    "plt.show()\n",
    "plt.savefig(\"../Project1/Fig2.png\")"
   ]
  },
  {
   "cell_type": "code",
   "execution_count": 495,
   "metadata": {},
   "outputs": [
    {
     "data": {
      "image/png": "[encoded data removed]",
      "text/plain": [
       "<Figure size 640x480 with 1 Axes>"
      ]
     },
     "metadata": {},
     "output_type": "display_data"
    }
   ],
   "source": [
    "# Plot a line chart showing the average number of completed education levels by year\n",
    "plt.plot(average_education.index, average_education['average_associates'], label='Associates')\n",
    "plt.plot(average_education.index, average_education['average_bachelors'], label='Bachelors')\n",
    "\n",
    "# Customize the plot\n",
    "plt.title('The Average Number of Completed Education Levels by Year')\n",
    "plt.xlabel('Years')\n",
    "plt.ylabel('Total')\n",
    "plt.legend(bbox_to_anchor=(1, 1))\n",
    "plt.grid(True)\n",
    "\n",
    "# Show the plot\n",
    "plt.xticks(average_education.index)\n",
    "plt.show()"
   ]
  },
  {
   "cell_type": "code",
   "execution_count": 492,
   "metadata": {},
   "outputs": [
    {
     "data": {
      "image/png": "[encoded data removed]",
      "text/plain": [
       "<Figure size 640x480 with 1 Axes>"
      ]
     },
     "metadata": {},
     "output_type": "display_data"
    }
   ],
   "source": [
    "# Plot a scatter plot for the average Number of Completed Education Levels by Year\n",
    "plt.scatter(average_education.index, average_education['average_no_education'], label='No Education')\n",
    "plt.scatter(average_education.index, average_education['average_high_school'], label='High School')\n",
    "plt.scatter(average_education.index, average_education['average_ged'], label='GED')\n",
    "plt.scatter(average_education.index, average_education['average_associates'], label='Associates')\n",
    "plt.scatter(average_education.index, average_education['average_bachelors'], label='Bachelors')\n",
    "plt.scatter(average_education.index, average_education['average_masters'], label='Masters')\n",
    "plt.scatter(average_education.index, average_education['average_professional'], label='Professional')\n",
    "plt.scatter(average_education.index, average_education['average_doctorate'], label='Doctorate')\n",
    "\n",
    "# Customize the plot\n",
    "plt.title('The Average Number of Completed Education Levels by Year')\n",
    "plt.xlabel('Years')\n",
    "plt.ylabel('Total')\n",
    "plt.legend(bbox_to_anchor=(1, 1))\n",
    "plt.grid(True)\n",
    "\n",
    "# Show the plot\n",
    "plt.xticks(average_education.index)\n",
    "plt.show()"
   ]
  },
  {
   "cell_type": "code",
   "execution_count": 475,
   "metadata": {},
   "outputs": [
    {
     "data": {
      "image/png": "[encoded data removed]",
      "text/plain": [
       "<Figure size 2000x500 with 1 Axes>"
      ]
     },
     "metadata": {},
     "output_type": "display_data"
    },
    {
     "data": {
      "text/plain": [
       "<Figure size 640x480 with 0 Axes>"
      ]
     },
     "metadata": {},
     "output_type": "display_data"
    }
   ],
   "source": [
    "# Generate a bar plot showing the total number of persons with each type of education.\n",
    "multi_bar_plot = total_education_main_clean.plot(kind=\"bar\", figsize=(20,5), rot=360)\n",
    "multi_bar_plot.set_xticklabels(years)\n",
    "plt.title(\"The Total Number of Completed Education Levels by Year\")\n",
    "plt.ylabel(\"Total\")\n",
    "plt.xlabel(\"Years\")\n",
    "plt.ylim(3000000, 52000000)\n",
    "plt.ticklabel_format(style='plain', axis='y')\n",
    "plt.legend(bbox_to_anchor=(1, 1))\n",
    "plt.show()\n",
    "plt.tight_layout()"
   ]
  },
  {
   "cell_type": "code",
   "execution_count": 535,
   "metadata": {},
   "outputs": [
    {
     "data": {
      "image/png": "[encoded data removed]",
      "text/plain": [
       "<Figure size 2000x500 with 1 Axes>"
      ]
     },
     "metadata": {},
     "output_type": "display_data"
    }
   ],
   "source": [
    "# Generate a bar plot showing the average number of persons with each type of education.\n",
    "multi_bar_plot_avg = average_education_main_clean.plot(kind=\"bar\", figsize=(20,5), rot=360)\n",
    "multi_bar_plot_avg.set_xticklabels(years)\n",
    "plt.title(\"The Average Number of Completed Education Levels by Year\")\n",
    "plt.ylabel(\"Total\")\n",
    "plt.xlabel(\"Years\")\n",
    "plt.ticklabel_format(style='plain', axis='y')\n",
    "plt.legend(bbox_to_anchor=(1, 1))\n",
    "#plt.show()\n",
    "plt.tight_layout()\n",
    "plt.savefig(r\"C:\\Users\\sym0002\\EdX_Bootcamp\\Project1/Fig1.png\")"
   ]
  },
  {
   "cell_type": "code",
   "execution_count": 498,
   "metadata": {},
   "outputs": [
    {
     "data": {
      "image/png": "[encoded data removed]",
      "text/plain": [
       "<Figure size 2000x500 with 1 Axes>"
      ]
     },
     "metadata": {},
     "output_type": "display_data"
    },
    {
     "data": {
      "text/plain": [
       "<Figure size 640x480 with 0 Axes>"
      ]
     },
     "metadata": {},
     "output_type": "display_data"
    }
   ],
   "source": [
    "# Generate a bar plot showing the average number of persons with no education.\n",
    "associates_education_data_avg = average_education_main_clean['average_associates']\n",
    "associates_education_bar_plot = associates_education_data_avg.plot(kind=\"bar\", figsize=(20,5), rot=360)\n",
    "associates_education_bar_plot.set_xticklabels(years)\n",
    "plt.title(\"The Average Number of Completed Education Levels by Year\")\n",
    "plt.ylabel(\"Total\")\n",
    "plt.xlabel(\"Years\")\n",
    "plt.ticklabel_format(style='plain', axis='y')\n",
    "plt.legend(bbox_to_anchor=(1, 1))\n",
    "plt.show()\n",
    "plt.tight_layout()"
   ]
  },
  {
   "cell_type": "code",
   "execution_count": 532,
   "metadata": {},
   "outputs": [
    {
     "data": {
      "image/png": "[encoded data removed]",
      "text/plain": [
       "<Figure size 2000x500 with 1 Axes>"
      ]
     },
     "metadata": {},
     "output_type": "display_data"
    },
    {
     "data": {
      "text/plain": [
       "<Figure size 640x480 with 0 Axes>"
      ]
     },
     "metadata": {},
     "output_type": "display_data"
    }
   ],
   "source": [
    "# Generate a bar plot showing 2 totals together.\n",
    "columns_to_plot = ['total_ged', 'total_high_school']\n",
    "subset_data = total_education_main_clean[columns_to_plot]\n",
    "\n",
    "no_education_bar_plot = subset_data.plot(kind=\"bar\", figsize=(20,5), rot=360)\n",
    "no_education_bar_plot.set_xticklabels(years)\n",
    "plt.title(\"The Total Number of Completed Education Levels by Year\")\n",
    "plt.ylabel(\"Total\")\n",
    "plt.xlabel(\"Years\")\n",
    "plt.ticklabel_format(style='plain', axis='y')\n",
    "plt.legend(loc='upper center', bbox_to_anchor=(1, 1))\n",
    "plt.show()\n",
    "plt.tight_layout()"
   ]
  },
  {
   "cell_type": "code",
   "execution_count": null,
   "metadata": {},
   "outputs": [],
   "source": []
  }
 ],
 "metadata": {
  "kernelspec": {
   "display_name": "base",
   "language": "python",
   "name": "python3"
  },
  "language_info": {
   "codemirror_mode": {
    "name": "ipython",
    "version": 3
   },
   "file_extension": ".py",
   "mimetype": "text/x-python",
   "name": "python",
   "nbconvert_exporter": "python",
   "pygments_lexer": "ipython3",
   "version": "3.11.5"
  }
 },
 "nbformat": 4,
 "nbformat_minor": 2
}
